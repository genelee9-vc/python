{
 "cells": [
  {
   "cell_type": "code",
   "execution_count": null,
   "metadata": {},
   "outputs": [],
   "source": [
    "!python --version"
   ]
  },
  {
   "cell_type": "code",
   "execution_count": null,
   "metadata": {},
   "outputs": [],
   "source": [
    "pwd"
   ]
  },
  {
   "cell_type": "code",
   "execution_count": null,
   "metadata": {},
   "outputs": [],
   "source": [
    "ls"
   ]
  },
  {
   "cell_type": "code",
   "execution_count": null,
   "metadata": {},
   "outputs": [],
   "source": [
    "pip install matplotlib"
   ]
  },
  {
   "cell_type": "code",
   "execution_count": null,
   "metadata": {},
   "outputs": [],
   "source": [
    "import matplotlib as plt"
   ]
  },
  {
   "cell_type": "code",
   "execution_count": null,
   "metadata": {},
   "outputs": [],
   "source": [
    "pip install numpy"
   ]
  },
  {
   "cell_type": "markdown",
   "metadata": {},
   "source": [
    "## Magic Commands"
   ]
  },
  {
   "cell_type": "markdown",
   "metadata": {},
   "source": [
    "Let's explore magic functions"
   ]
  },
  {
   "cell_type": "code",
   "execution_count": 1,
   "metadata": {},
   "outputs": [
    {
     "data": {
      "application/json": {
       "cell": {
        "!": "OSMagics",
        "HTML": "Other",
        "SVG": "Other",
        "bash": "Other",
        "capture": "ExecutionMagics",
        "cmd": "Other",
        "debug": "ExecutionMagics",
        "file": "Other",
        "html": "DisplayMagics",
        "javascript": "DisplayMagics",
        "js": "DisplayMagics",
        "latex": "DisplayMagics",
        "markdown": "DisplayMagics",
        "perl": "Other",
        "prun": "ExecutionMagics",
        "pypy": "Other",
        "python": "Other",
        "python2": "Other",
        "python3": "Other",
        "ruby": "Other",
        "script": "ScriptMagics",
        "sh": "Other",
        "svg": "DisplayMagics",
        "sx": "OSMagics",
        "system": "OSMagics",
        "time": "ExecutionMagics",
        "timeit": "ExecutionMagics",
        "writefile": "OSMagics"
       },
       "line": {
        "alias": "OSMagics",
        "alias_magic": "BasicMagics",
        "autoawait": "AsyncMagics",
        "autocall": "AutoMagics",
        "automagic": "AutoMagics",
        "autosave": "KernelMagics",
        "bookmark": "OSMagics",
        "cd": "OSMagics",
        "clear": "KernelMagics",
        "cls": "KernelMagics",
        "colors": "BasicMagics",
        "conda": "PackagingMagics",
        "config": "ConfigMagics",
        "connect_info": "KernelMagics",
        "copy": "Other",
        "ddir": "Other",
        "debug": "ExecutionMagics",
        "dhist": "OSMagics",
        "dirs": "OSMagics",
        "doctest_mode": "BasicMagics",
        "echo": "Other",
        "ed": "Other",
        "edit": "KernelMagics",
        "env": "OSMagics",
        "gui": "BasicMagics",
        "hist": "Other",
        "history": "HistoryMagics",
        "killbgscripts": "ScriptMagics",
        "ldir": "Other",
        "less": "KernelMagics",
        "load": "CodeMagics",
        "load_ext": "ExtensionMagics",
        "loadpy": "CodeMagics",
        "logoff": "LoggingMagics",
        "logon": "LoggingMagics",
        "logstart": "LoggingMagics",
        "logstate": "LoggingMagics",
        "logstop": "LoggingMagics",
        "ls": "Other",
        "lsmagic": "BasicMagics",
        "macro": "ExecutionMagics",
        "magic": "BasicMagics",
        "matplotlib": "PylabMagics",
        "mkdir": "Other",
        "more": "KernelMagics",
        "notebook": "BasicMagics",
        "page": "BasicMagics",
        "pastebin": "CodeMagics",
        "pdb": "ExecutionMagics",
        "pdef": "NamespaceMagics",
        "pdoc": "NamespaceMagics",
        "pfile": "NamespaceMagics",
        "pinfo": "NamespaceMagics",
        "pinfo2": "NamespaceMagics",
        "pip": "PackagingMagics",
        "popd": "OSMagics",
        "pprint": "BasicMagics",
        "precision": "BasicMagics",
        "prun": "ExecutionMagics",
        "psearch": "NamespaceMagics",
        "psource": "NamespaceMagics",
        "pushd": "OSMagics",
        "pwd": "OSMagics",
        "pycat": "OSMagics",
        "pylab": "PylabMagics",
        "qtconsole": "KernelMagics",
        "quickref": "BasicMagics",
        "recall": "HistoryMagics",
        "rehashx": "OSMagics",
        "reload_ext": "ExtensionMagics",
        "ren": "Other",
        "rep": "Other",
        "rerun": "HistoryMagics",
        "reset": "NamespaceMagics",
        "reset_selective": "NamespaceMagics",
        "rmdir": "Other",
        "run": "ExecutionMagics",
        "save": "CodeMagics",
        "sc": "OSMagics",
        "set_env": "OSMagics",
        "store": "StoreMagics",
        "sx": "OSMagics",
        "system": "OSMagics",
        "tb": "ExecutionMagics",
        "time": "ExecutionMagics",
        "timeit": "ExecutionMagics",
        "unalias": "OSMagics",
        "unload_ext": "ExtensionMagics",
        "who": "NamespaceMagics",
        "who_ls": "NamespaceMagics",
        "whos": "NamespaceMagics",
        "xdel": "NamespaceMagics",
        "xmode": "BasicMagics"
       }
      },
      "text/plain": [
       "Available line magics:\n",
       "%alias  %alias_magic  %autoawait  %autocall  %automagic  %autosave  %bookmark  %cd  %clear  %cls  %colors  %conda  %config  %connect_info  %copy  %ddir  %debug  %dhist  %dirs  %doctest_mode  %echo  %ed  %edit  %env  %gui  %hist  %history  %killbgscripts  %ldir  %less  %load  %load_ext  %loadpy  %logoff  %logon  %logstart  %logstate  %logstop  %ls  %lsmagic  %macro  %magic  %matplotlib  %mkdir  %more  %notebook  %page  %pastebin  %pdb  %pdef  %pdoc  %pfile  %pinfo  %pinfo2  %pip  %popd  %pprint  %precision  %prun  %psearch  %psource  %pushd  %pwd  %pycat  %pylab  %qtconsole  %quickref  %recall  %rehashx  %reload_ext  %ren  %rep  %rerun  %reset  %reset_selective  %rmdir  %run  %save  %sc  %set_env  %store  %sx  %system  %tb  %time  %timeit  %unalias  %unload_ext  %who  %who_ls  %whos  %xdel  %xmode\n",
       "\n",
       "Available cell magics:\n",
       "%%!  %%HTML  %%SVG  %%bash  %%capture  %%cmd  %%debug  %%file  %%html  %%javascript  %%js  %%latex  %%markdown  %%perl  %%prun  %%pypy  %%python  %%python2  %%python3  %%ruby  %%script  %%sh  %%svg  %%sx  %%system  %%time  %%timeit  %%writefile\n",
       "\n",
       "Automagic is ON, % prefix IS NOT needed for line magics."
      ]
     },
     "execution_count": 1,
     "metadata": {},
     "output_type": "execute_result"
    }
   ],
   "source": [
    "%lsmagic"
   ]
  },
  {
   "cell_type": "code",
   "execution_count": null,
   "metadata": {},
   "outputs": [],
   "source": [
    "%cd"
   ]
  },
  {
   "cell_type": "code",
   "execution_count": null,
   "metadata": {},
   "outputs": [],
   "source": [
    "%cd Python Practice"
   ]
  },
  {
   "cell_type": "code",
   "execution_count": null,
   "metadata": {},
   "outputs": [],
   "source": [
    "ls"
   ]
  },
  {
   "cell_type": "code",
   "execution_count": null,
   "metadata": {},
   "outputs": [],
   "source": [
    "def square(x):\n",
    "    return x ** 2\n",
    "for i in range(1,4):\n",
    "    print(\"square of %s is\"%i,square(i))"
   ]
  },
  {
   "cell_type": "code",
   "execution_count": null,
   "metadata": {},
   "outputs": [],
   "source": [
    "%run myscript.py"
   ]
  },
  {
   "cell_type": "code",
   "execution_count": 8,
   "metadata": {},
   "outputs": [
    {
     "data": {
      "image/png": "[encoded data removed]",
      "text/plain": [
       "<Figure size 432x288 with 1 Axes>"
      ]
     },
     "metadata": {
      "needs_background": "light"
     },
     "output_type": "display_data"
    },
    {
     "name": "stdout",
     "output_type": "stream",
     "text": [
      "I want to pass this string to a different notebook\n"
     ]
    }
   ],
   "source": [
    "%run sin_curve.ipynb"
   ]
  },
  {
   "cell_type": "code",
   "execution_count": 4,
   "metadata": {},
   "outputs": [],
   "source": [
    "string = 'I want to pass this string to a different notebook'"
   ]
  },
  {
   "cell_type": "code",
   "execution_count": 5,
   "metadata": {},
   "outputs": [
    {
     "name": "stdout",
     "output_type": "stream",
     "text": [
      "Stored 'string' (str)\n"
     ]
    }
   ],
   "source": [
    "%store string\n",
    "del string"
   ]
  },
  {
   "cell_type": "code",
   "execution_count": 10,
   "metadata": {},
   "outputs": [
    {
     "name": "stdout",
     "output_type": "stream",
     "text": [
      "square of 1 is 1\n",
      "square of 2 is 4\n",
      "square of 3 is 9\n"
     ]
    }
   ],
   "source": [
    "# %load myscript.py\n",
    "def square(x):\n",
    "    return x ** 2\n",
    "for i in range(1,4):\n",
    "    print(\"square of %s is\"%i,square(i))"
   ]
  },
  {
   "cell_type": "code",
   "execution_count": 11,
   "metadata": {},
   "outputs": [
    {
     "data": {
      "text/markdown": [
       "This is a comment\n"
      ],
      "text/plain": [
       "<IPython.core.display.Markdown object>"
      ]
     },
     "metadata": {},
     "output_type": "display_data"
    }
   ],
   "source": [
    "#Double %% is cell magic for all lines in the cell. Single is line magic function\n",
    "%%markdown\n",
    "This is a comment"
   ]
  },
  {
   "cell_type": "code",
   "execution_count": 14,
   "metadata": {},
   "outputs": [
    {
     "name": "stdout",
     "output_type": "stream",
     "text": [
      "Wall time: 10.5 s\n"
     ]
    }
   ],
   "source": [
    "%%time\n",
    "import time\n",
    "for i in range(1000):\n",
    "    time.sleep(0.01)"
   ]
  },
  {
   "cell_type": "code",
   "execution_count": 15,
   "metadata": {},
   "outputs": [
    {
     "name": "stdout",
     "output_type": "stream",
     "text": [
      "388 µs ± 31.1 µs per loop (mean ± std. dev. of 7 runs, 1000 loops each)\n"
     ]
    }
   ],
   "source": [
    "%%timeit\n",
    "listnum_=[n**2 for n in range(1000)]"
   ]
  },
  {
   "cell_type": "code",
   "execution_count": 16,
   "metadata": {},
   "outputs": [
    {
     "name": "stdout",
     "output_type": "stream",
     "text": [
      "Writing newfile.py\n"
     ]
    }
   ],
   "source": [
    "%%writefile newfile.py\n",
    "print('hi')"
   ]
  },
  {
   "cell_type": "code",
   "execution_count": 17,
   "metadata": {},
   "outputs": [
    {
     "name": "stdout",
     "output_type": "stream",
     "text": [
      "hi\n"
     ]
    }
   ],
   "source": [
    "%run newfile.py"
   ]
  },
  {
   "cell_type": "code",
   "execution_count": 18,
   "metadata": {},
   "outputs": [
    {
     "data": {
      "text/html": [
       "<font size = 6 color = 'red'>\n",
       "Gene Lee\n",
       "</font>\n"
      ],
      "text/plain": [
       "<IPython.core.display.HTML object>"
      ]
     },
     "metadata": {},
     "output_type": "display_data"
    }
   ],
   "source": [
    "%%html\n",
    "<font size = 6 color = 'red'>\n",
    "Gene Lee\n",
    "</font>"
   ]
  },
  {
   "cell_type": "code",
   "execution_count": 2,
   "metadata": {},
   "outputs": [
    {
     "name": "stdout",
     "output_type": "stream",
     "text": [
      " Volume in drive C is Windows\n",
      " Volume Serial Number is FE87-DA59\n",
      "\n",
      " Directory of C:\\Users\\g_lee\\AppData\\Local\\Programs\\Python\\Python38\\python\n",
      "\n",
      "04/27/2020  05:13 PM    <DIR>          .\n",
      "04/27/2020  05:13 PM    <DIR>          ..\n",
      "04/27/2020  05:11 PM    <DIR>          .ipynb_checkpoints\n",
      "04/16/2020  01:17 PM            22,667 00_Practice_with_SimpleExpressions_Arithmetic.ipynb\n",
      "04/27/2020  04:28 PM            18,752 01_Practice_Py_Code.ipynb\n",
      "04/13/2020  03:05 PM            28,053 02_Practice_with_Lists.ipynb\n",
      "04/13/2020  03:54 PM             8,851 03_Practice_with_Tuples.ipynb\n",
      "04/13/2020  04:16 PM             8,227 04_Practice_with_Dictionaries.ipynb\n",
      "04/15/2020  11:10 AM            13,722 05_Practice_with_If_Statements.ipynb\n",
      "04/15/2020  02:26 PM            13,697 06_Practice_with_ForLoops.ipynb\n",
      "04/15/2020  04:44 PM         7,539,946 07_Practice_with_WhileLoops.ipynb\n",
      "04/16/2020  04:48 PM             6,664 08_Practice_with_BreakContinuePass.ipynb\n",
      "04/19/2020  07:46 PM            17,786 09_Practice_with_FunctionsInputsArgumentsReturnValues.ipynb\n",
      "04/21/2020  07:23 PM            20,589 10_Practice_with_Functions_Continued.ipynb\n",
      "04/21/2020  08:01 PM            18,963 11_Practice_with_ImportingModules.ipynb\n",
      "04/23/2020  07:55 AM            28,773 12_Practice_with_CommandLineAndEnvironVariables.ipynb\n",
      "04/27/2020  04:48 PM            34,264 13_Practice_with_Files.ipynb\n",
      "04/27/2020  05:13 PM            32,559 14_Practice_with_MagicCommands.ipynb\n",
      "04/27/2020  04:19 PM             8,002 BasicTypesInPython.ipynb\n",
      "04/23/2020  01:21 PM                39 dogs_and_ages.json\n",
      "04/23/2020  12:14 PM               235 IRIS.csv\n",
      "04/24/2020  03:34 PM               132 module.py\n",
      "04/07/2020  09:04 PM                94 myscript.py\n",
      "04/07/2020  09:37 PM                13 newfile.py\n",
      "04/11/2020  11:06 AM               178 price.csv\n",
      "04/11/2020  11:20 AM               732 price.py\n",
      "04/27/2020  11:25 AM                57 README.md\n",
      "04/07/2020  10:30 PM               233 saved_iris_df.csv\n",
      "04/07/2020  09:36 PM            22,987 sin_curve.ipynb\n",
      "04/23/2020  12:12 PM                31 sportscars.txt\n",
      "04/11/2020  04:10 PM             6,634 Strings.ipynb\n",
      "04/21/2020  07:26 PM             8,306 UnderstandingJupyter.ipynb\n",
      "04/16/2020  01:05 PM             6,964 Variables.ipynb\n",
      "04/27/2020  04:31 PM            41,561 WorkingWithJupyterNotebooks.ipynb\n",
      "              31 File(s)      7,909,711 bytes\n",
      "               3 Dir(s)  142,125,277,184 bytes free\n"
     ]
    }
   ],
   "source": [
    "%ls"
   ]
  },
  {
   "cell_type": "code",
   "execution_count": 3,
   "metadata": {},
   "outputs": [
    {
     "data": {
      "text/plain": [
       "'C:\\\\Users\\\\g_lee\\\\AppData\\\\Local\\\\Programs\\\\Python\\\\Python38\\\\python'"
      ]
     },
     "execution_count": 3,
     "metadata": {},
     "output_type": "execute_result"
    }
   ],
   "source": [
    "%pwd"
   ]
  },
  {
   "cell_type": "code",
   "execution_count": 9,
   "metadata": {},
   "outputs": [],
   "source": [
    "# %load price.csv\n",
    "Things,Quantity,Total_Price\n",
    "Spoon,105.0,1050\n",
    "Plate,78.0,2250\n",
    "Cup,90.0,1550\n",
    "Fork,NaN,890\n",
    "Bread,21.0,620\n",
    "Juice,85.0,2125\n",
    "Biscuit,15.0,312\n",
    "Cake,18.0,523\n",
    "Chocolate,100.0,100"
   ]
  },
  {
   "cell_type": "code",
   "execution_count": 13,
   "metadata": {},
   "outputs": [
    {
     "name": "stdout",
     "output_type": "stream",
     "text": [
      "  Things  Quantity  Total_Price\n",
      "0  Spoon     105.0         1050\n",
      "1  Plate      78.0         2250\n",
      "2    Cup      90.0         1550\n",
      "3   Fork       NaN          890\n",
      "4  Bread      21.0          620\n",
      "  Things  Quantity  Total_Price\n",
      "0  Spoon     105.0         1050\n",
      "1  Plate      78.0         2250\n",
      "2    Cup      90.0         1550\n",
      "3   Fork       0.0          890\n",
      "4  Bread      21.0          620\n",
      "10.0\n",
      "28.846153846153847\n",
      "17.22222222222222\n",
      "29.523809523809526\n",
      "25.0\n",
      "20.8\n",
      "29.055555555555557\n",
      "1.0\n"
     ]
    },
    {
     "data": {
      "image/png": "[encoded data removed]",
      "text/plain": [
       "<Figure size 432x288 with 1 Axes>"
      ]
     },
     "metadata": {
      "needs_background": "light"
     },
     "output_type": "display_data"
    }
   ],
   "source": [
    "# %load price.py\n",
    "import pandas as pd\n",
    "import matplotlib.pyplot as plt\n",
    "\n",
    "price_data = pd.read_csv('price.csv')\n",
    "\n",
    "print(price_data.head())\n",
    "\n",
    "price_data = price_data.fillna(0)\n",
    "\n",
    "print(price_data.head())\n",
    "\n",
    "def get_price_info():\n",
    "    for index, row in price_data.iterrows():\n",
    "        \n",
    "        total_price= row['Total_Price']\n",
    "        quantity = row['Quantity']\n",
    "        \n",
    "        #price_of_a_unit = (total_price/quantity)\n",
    "        #print(price_of_a_unit)\n",
    "       \n",
    "        try:\n",
    "            price_of_a_unit = (total_price/quantity)\n",
    "            print(price_of_a_unit)\n",
    "        except ZeroDivisionError :\n",
    "            continue\n",
    "\n",
    "\n",
    "        \n",
    "get_price_info()\n",
    "\n",
    "plt.bar(price_data.Things, height = price_data.Total_Price)\n",
    "plt.title('Barplot of Things vs Total_Price')\n",
    "plt.show()\n"
   ]
  },
  {
   "cell_type": "code",
   "execution_count": 14,
   "metadata": {},
   "outputs": [],
   "source": [
    "%matplotlib inline"
   ]
  },
  {
   "cell_type": "code",
   "execution_count": 16,
   "metadata": {},
   "outputs": [
    {
     "data": {
      "image/png": "[encoded data removed]",
      "text/plain": [
       "<Figure size 1080x576 with 1 Axes>"
      ]
     },
     "metadata": {
      "needs_background": "light"
     },
     "output_type": "display_data"
    }
   ],
   "source": [
    "import matplotlib.pyplot as plt\n",
    "import numpy as np\n",
    "\n",
    "N = 100\n",
    "\n",
    "X = np.random.rand(N)\n",
    "Y = np.random.rand(N)\n",
    "\n",
    "colors = np.random.rand(N)\n",
    "area = (30 * np.random.rand(N))**2\n",
    "\n",
    "plt.figure(figsize=(15,8))\n",
    "plt.scatter(X,Y,s=area,c=colors,alpha=.5)\n",
    "plt.show()"
   ]
  },
  {
   "cell_type": "code",
   "execution_count": 18,
   "metadata": {},
   "outputs": [],
   "source": [
    "%alias parenthesis echo \"Input in parenthesis: <%l>\""
   ]
  },
  {
   "cell_type": "code",
   "execution_count": 19,
   "metadata": {},
   "outputs": [
    {
     "name": "stdout",
     "output_type": "stream",
     "text": [
      "\"Input in parenthesis: <hello world>\" \n"
     ]
    }
   ],
   "source": [
    "parenthesis hello world"
   ]
  },
  {
   "cell_type": "code",
   "execution_count": 20,
   "metadata": {},
   "outputs": [
    {
     "name": "stdout",
     "output_type": "stream",
     "text": [
      "This is a non-magic function to calculate the time to execute this line\n"
     ]
    },
    {
     "data": {
      "text/plain": [
       "0.0010013580322265625"
      ]
     },
     "execution_count": 20,
     "metadata": {},
     "output_type": "execute_result"
    }
   ],
   "source": [
    "import time\n",
    "start = time.time()\n",
    "print(\"This is a non-magic function to calculate the time to execute this line\")\n",
    "elapsed_time_fl = (time.time() - start)\n",
    "elapsed_time_fl"
   ]
  },
  {
   "cell_type": "code",
   "execution_count": 21,
   "metadata": {},
   "outputs": [
    {
     "name": "stdout",
     "output_type": "stream",
     "text": [
      "Wall time: 0 ns\n",
      "This is a magic function to calculate the time to execute this line\n"
     ]
    }
   ],
   "source": [
    "#A better way to time the execution of your print statememnt or py commnad is magic command time\n",
    "\n",
    "%time\n",
    "print(\"This is a magic function to calculate the time to execute this line\")"
   ]
  },
  {
   "cell_type": "code",
   "execution_count": 24,
   "metadata": {},
   "outputs": [
    {
     "name": "stdout",
     "output_type": "stream",
     "text": [
      "Wall time: 0 ns\n",
      "0\n",
      "1\n",
      "2\n",
      "3\n",
      "4\n"
     ]
    }
   ],
   "source": [
    "%time\n",
    "for i in range(5):\n",
    "    print(i)"
   ]
  },
  {
   "cell_type": "code",
   "execution_count": 27,
   "metadata": {},
   "outputs": [
    {
     "data": {
      "text/html": [
       "<h1> This is the first heading </h1>\n",
       "<h2> This is the second heading </h>\n",
       "<p> This is a paragraph </p>\n"
      ],
      "text/plain": [
       "<IPython.core.display.HTML object>"
      ]
     },
     "metadata": {},
     "output_type": "display_data"
    }
   ],
   "source": [
    "%%html\n",
    "<h1> This is the first heading </h1>\n",
    "<h2> This is the second heading </h>\n",
    "<p> This is a paragraph </p>"
   ]
  },
  {
   "cell_type": "code",
   "execution_count": 31,
   "metadata": {},
   "outputs": [
    {
     "ename": "SyntaxError",
     "evalue": "Missing parentheses in call to 'print'. Did you mean print('This is a python2.x syntax\\n')? (<ipython-input-31-cb030d00e4b3>, line 4)",
     "output_type": "error",
     "traceback": [
      "\u001b[1;36m  File \u001b[1;32m\"<ipython-input-31-cb030d00e4b3>\"\u001b[1;36m, line \u001b[1;32m4\u001b[0m\n\u001b[1;33m    print 'This is a python2.x syntax\\n'\u001b[0m\n\u001b[1;37m          ^\u001b[0m\n\u001b[1;31mSyntaxError\u001b[0m\u001b[1;31m:\u001b[0m Missing parentheses in call to 'print'. Did you mean print('This is a python2.x syntax\\n')?\n"
     ]
    }
   ],
   "source": [
    "#You can use magic funcs to use diff version of Python within the cell (NOTE:YOU HAVE TO INSTALL PY 2)\n",
    "%%python2\n",
    "\n",
    "print 'This is a python2.x syntax\\n'\n",
    "\n",
    "for i in range(5):\n",
    "    print(i)"
   ]
  },
  {
   "cell_type": "code",
   "execution_count": 32,
   "metadata": {},
   "outputs": [
    {
     "name": "stdout",
     "output_type": "stream",
     "text": [
      "Couldn't find program: 'ruby'\n"
     ]
    }
   ],
   "source": [
    "%%ruby\n",
    "puts \"Hello, World!\""
   ]
  },
  {
   "cell_type": "code",
   "execution_count": null,
   "metadata": {},
   "outputs": [],
   "source": []
  }
 ],
 "metadata": {
  "kernelspec": {
   "display_name": "Python 3",
   "language": "python",
   "name": "python3"
  },
  "language_info": {
   "codemirror_mode": {
    "name": "ipython",
    "version": 3
   },
   "file_extension": ".py",
   "mimetype": "text/x-python",
   "name": "python",
   "nbconvert_exporter": "python",
   "pygments_lexer": "ipython3",
   "version": "3.8.2"
  }
 },
 "nbformat": 4,
 "nbformat_minor": 4
}
