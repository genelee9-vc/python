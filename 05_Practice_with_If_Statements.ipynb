{
 "cells": [
  {
   "cell_type": "code",
   "execution_count": 1,
   "metadata": {},
   "outputs": [
    {
     "name": "stdout",
     "output_type": "stream",
     "text": [
      "25 is less than 30\n"
     ]
    }
   ],
   "source": [
    "if 25 < 30:\n",
    "    print(\"25 is less than 30\")"
   ]
  },
  {
   "cell_type": "code",
   "execution_count": 6,
   "metadata": {},
   "outputs": [],
   "source": [
    "if 35==25:\n",
    "    print(\"35 and 25 are exactly the same value\")"
   ]
  },
  {
   "cell_type": "code",
   "execution_count": 8,
   "metadata": {},
   "outputs": [
    {
     "name": "stdout",
     "output_type": "stream",
     "text": [
      "35 and 25 are NOT the same value\n"
     ]
    }
   ],
   "source": [
    "if not 35== 25:\n",
    "    print(\"35 and 25 are NOT the same value\")"
   ]
  },
  {
   "cell_type": "code",
   "execution_count": 9,
   "metadata": {},
   "outputs": [
    {
     "ename": "SyntaxError",
     "evalue": "invalid syntax (<ipython-input-9-99a0e465b30d>, line 2)",
     "output_type": "error",
     "traceback": [
      "\u001b[1;36m  File \u001b[1;32m\"<ipython-input-9-99a0e465b30d>\"\u001b[1;36m, line \u001b[1;32m2\u001b[0m\n\u001b[1;33m    if 35 = 35:\u001b[0m\n\u001b[1;37m          ^\u001b[0m\n\u001b[1;31mSyntaxError\u001b[0m\u001b[1;31m:\u001b[0m invalid syntax\n"
     ]
    }
   ],
   "source": [
    "#remember, assignment operator (single \"=\" sign) is not a comparison operator\n",
    "\n",
    "if 35 = 35:\n",
    "    print(\"Both values are the same\")"
   ]
  },
  {
   "cell_type": "code",
   "execution_count": 10,
   "metadata": {},
   "outputs": [
    {
     "name": "stdout",
     "output_type": "stream",
     "text": [
      "Both values are the same\n"
     ]
    }
   ],
   "source": [
    "if 35==35:\n",
    "    print(\"Both values are the same\")"
   ]
  },
  {
   "cell_type": "code",
   "execution_count": 2,
   "metadata": {},
   "outputs": [
    {
     "name": "stdout",
     "output_type": "stream",
     "text": [
      "The number is greater than zero: 225\n"
     ]
    }
   ],
   "source": [
    "num = 225\n",
    "if num > 0:\n",
    "    print(\"The number is greater than zero:\",num)"
   ]
  },
  {
   "cell_type": "code",
   "execution_count": 3,
   "metadata": {},
   "outputs": [
    {
     "name": "stdout",
     "output_type": "stream",
     "text": [
      "The number is greater than zero: 225\n"
     ]
    }
   ],
   "source": [
    "#Implicit check for \"num\" greater than 0\n",
    "if num:\n",
    "    print(\"The number is greater than zero:\",num)"
   ]
  },
  {
   "cell_type": "code",
   "execution_count": 10,
   "metadata": {},
   "outputs": [],
   "source": [
    "num2 = -1\n",
    "if num2 > 0:\n",
    "    print(\"The number is greater than zero:\",num2)"
   ]
  },
  {
   "cell_type": "code",
   "execution_count": 12,
   "metadata": {},
   "outputs": [
    {
     "name": "stdout",
     "output_type": "stream",
     "text": [
      "The number is greater than zero: -2\n"
     ]
    }
   ],
   "source": [
    "num3 = -2\n",
    "if num3:\n",
    "    print(\"The number is greater than zero:\",num3)"
   ]
  },
  {
   "cell_type": "code",
   "execution_count": 15,
   "metadata": {},
   "outputs": [
    {
     "name": "stdout",
     "output_type": "stream",
     "text": [
      "36 + 165 = 100 + 101 is correct!\n"
     ]
    }
   ],
   "source": [
    "if 36 + 165 == 100 + 101:\n",
    "    print(\"36 + 165 = 100 + 101 is correct!\")"
   ]
  },
  {
   "cell_type": "code",
   "execution_count": 16,
   "metadata": {},
   "outputs": [
    {
     "name": "stdout",
     "output_type": "stream",
     "text": [
      "55 >= 45\n"
     ]
    }
   ],
   "source": [
    "if 55 >= 45:\n",
    "    print(\"55 >= 45\")"
   ]
  },
  {
   "cell_type": "code",
   "execution_count": 23,
   "metadata": {},
   "outputs": [],
   "source": [
    "salary = 20000\n",
    "expenses = 5000"
   ]
  },
  {
   "cell_type": "code",
   "execution_count": 24,
   "metadata": {},
   "outputs": [],
   "source": [
    "living_within_means = False\n",
    "\n",
    "if salary - expenses > 0:\n",
    "    living_within_means = True"
   ]
  },
  {
   "cell_type": "code",
   "execution_count": 25,
   "metadata": {},
   "outputs": [
    {
     "name": "stdout",
     "output_type": "stream",
     "text": [
      "Am I living within my means? True\n"
     ]
    }
   ],
   "source": [
    "print(\"Am I living within my means?\",living_within_means)"
   ]
  },
  {
   "cell_type": "code",
   "execution_count": 26,
   "metadata": {},
   "outputs": [
    {
     "name": "stdout",
     "output_type": "stream",
     "text": [
      "100 > 50 > 10\n"
     ]
    }
   ],
   "source": [
    "if 100 > 50 > 10:\n",
    "    print(\"100 > 50 > 10\")"
   ]
  },
  {
   "cell_type": "code",
   "execution_count": 27,
   "metadata": {},
   "outputs": [],
   "source": [
    "if 100 < 50 < 10:\n",
    "    print(\"nothing will be printed\")"
   ]
  },
  {
   "cell_type": "code",
   "execution_count": 32,
   "metadata": {},
   "outputs": [
    {
     "name": "stdout",
     "output_type": "stream",
     "text": [
      "I'm glad you're saving but perhaps your expenses could be lower?\n"
     ]
    }
   ],
   "source": [
    "#Checks to see if both criteria are true\n",
    "salary = 10000\n",
    "expenses = 2500\n",
    "\n",
    "living_within_means = salary - expenses > 0\n",
    "\n",
    "if living_within_means and expenses > 2000:\n",
    "    print(\"I'm glad you're saving but perhaps your expenses could be lower?\")"
   ]
  },
  {
   "cell_type": "code",
   "execution_count": 33,
   "metadata": {},
   "outputs": [
    {
     "name": "stdout",
     "output_type": "stream",
     "text": [
      "This is printed because 2 is definitely less than 5\n"
     ]
    }
   ],
   "source": [
    "#Positive result b/c we satisified at least 1 condition\n",
    "if 2 <= 5 or 7 >= 8:\n",
    "    print(\"This is printed because 2 is definitely less than 5\")"
   ]
  },
  {
   "cell_type": "code",
   "execution_count": 40,
   "metadata": {},
   "outputs": [
    {
     "name": "stdout",
     "output_type": "stream",
     "text": [
      "Savings for the month:  7500\n"
     ]
    }
   ],
   "source": [
    "salary = 10000\n",
    "expenses = 2500\n",
    "\n",
    "savings = 0 #this line is set to 0 to add the savings field\n",
    "\n",
    "if salary > expenses:\n",
    "    savings = salary - expenses\n",
    "    print(\"Savings for the month: \", savings)"
   ]
  },
  {
   "cell_type": "code",
   "execution_count": 41,
   "metadata": {},
   "outputs": [
    {
     "name": "stdout",
     "output_type": "stream",
     "text": [
      "Savings for the month:  7500\n"
     ]
    }
   ],
   "source": [
    "salary = 10000\n",
    "expenses = 2500\n",
    "\n",
    "if salary > expenses:\n",
    "    print(\"Savings for the month: \", salary - expenses)\n",
    "else:\n",
    "    print(\"Loans to tide you over: \", expenses - salary)\n",
    "    \n",
    "#Notice how you have to indent the \"else\" line backwards to create a new association"
   ]
  },
  {
   "cell_type": "code",
   "execution_count": 50,
   "metadata": {},
   "outputs": [
    {
     "name": "stdout",
     "output_type": "stream",
     "text": [
      "The smallest value in this list is negative: -5\n"
     ]
    }
   ],
   "source": [
    "some_list = [3,-5,2,9,10,100,22,21,-1]\n",
    "\n",
    "if min(some_list) < 0:\n",
    "    print(\"The smallest value in this list is negative:\",min(some_list))\n",
    "else:\n",
    "    print(\"The smallest value in this list is positive:\",min(some_list))"
   ]
  },
  {
   "cell_type": "code",
   "execution_count": 53,
   "metadata": {},
   "outputs": [
    {
     "name": "stdout",
     "output_type": "stream",
     "text": [
      "Savings for the month: 7500\n",
      "Savings: 7500 Loans: 0\n"
     ]
    }
   ],
   "source": [
    "salary = 10000\n",
    "expenses = 2500\n",
    "\n",
    "savings = 0\n",
    "loans = 0\n",
    "\n",
    "if salary > expenses:\n",
    "    savings = salary - expenses\n",
    "    print(\"Savings for the month:\",savings)\n",
    "else:\n",
    "    loans = abs(salary - expenses)\n",
    "    print(\"Loans taken:\",loans)\n",
    "\n",
    "print(\"Savings:\",savings,\"Loans:\",loans)"
   ]
  },
  {
   "cell_type": "code",
   "execution_count": 54,
   "metadata": {},
   "outputs": [
    {
     "data": {
      "text/plain": [
       "3"
      ]
     },
     "execution_count": 54,
     "metadata": {},
     "output_type": "execute_result"
    }
   ],
   "source": [
    "classic_cars = [\"Pierce Arrow\",\"Oldsmobile\",\"Mustang\"]\n",
    "sports_cars = [\"Agera\",\"Regera\",\"Chiron\",\"Veyron\"]\n",
    "planes = [\"A380\",\"747\",\"A370\"]\n",
    "len(classic_cars)"
   ]
  },
  {
   "cell_type": "code",
   "execution_count": 55,
   "metadata": {},
   "outputs": [
    {
     "name": "stdout",
     "output_type": "stream",
     "text": [
      "That isn't a very long list of classic cars\n"
     ]
    }
   ],
   "source": [
    "if len(classic_cars) < 5:\n",
    "    print(\"That isn't a very long list of classic cars\")"
   ]
  },
  {
   "cell_type": "code",
   "execution_count": 58,
   "metadata": {},
   "outputs": [
    {
     "name": "stdout",
     "output_type": "stream",
     "text": [
      "Your type of transportation is a plane\n"
     ]
    }
   ],
   "source": [
    "transportation = \"747\"\n",
    "\n",
    "if transportation in classic_cars:\n",
    "    print(\"Your type of transportation is a classic car\")\n",
    "\n",
    "if transportation in sports_cars:\n",
    "    print(\"Your type of transportation is a sports car\")\n",
    "\n",
    "if transportation in planes:\n",
    "    print(\"Your type of transportation is a plane\")"
   ]
  },
  {
   "cell_type": "code",
   "execution_count": 60,
   "metadata": {},
   "outputs": [
    {
     "name": "stdout",
     "output_type": "stream",
     "text": [
      "The Phantom is in the luxury_cars_and_their_hp\n",
      "The Maybach is not in luxury_cars_and_their_hp\n"
     ]
    }
   ],
   "source": [
    "#if statements can be applied to check keys in a dictionary as well\n",
    "luxury_cars_and_their_hp = {\"Phantom\":414,\"Cullinan\":420,\"Wraith\":465,\"Ghost\":420,\"Dawn\":420}\n",
    "\n",
    "if \"Phantom\" in luxury_cars_and_their_hp:\n",
    "    print(\"The Phantom is in the luxury_cars_and_their_hp\")\n",
    "\n",
    "if \"Maybach\" not in luxury_cars_and_their_hp:\n",
    "    print(\"The Maybach is not in luxury_cars_and_their_hp\")"
   ]
  },
  {
   "cell_type": "code",
   "execution_count": 72,
   "metadata": {},
   "outputs": [
    {
     "name": "stdout",
     "output_type": "stream",
     "text": [
      "You are great at math! 90\n"
     ]
    }
   ],
   "source": [
    "math_score = 90\n",
    "\n",
    "if math_score <= 20:\n",
    "    print(\"I'm afraid that is not a great score\",math_score)\n",
    "\n",
    "elif math_score <=50:\n",
    "    print(\"Oh you can definitely do better than this\",math_score)\n",
    "    \n",
    "elif math_score <=80:\n",
    "    print(\"Ahh you're close to the highest grade you can get\",math_score)\n",
    "\n",
    "elif math_score < 100:\n",
    "    print(\"You are great at math!\",math_score)"
   ]
  },
  {
   "cell_type": "code",
   "execution_count": 75,
   "metadata": {},
   "outputs": [
    {
     "name": "stdout",
     "output_type": "stream",
     "text": [
      "You are great at math! 20\n"
     ]
    }
   ],
   "source": [
    "#Be mindful of ordering when doing ELIF. Ordering of the statements matter\n",
    "math_score = 20\n",
    "\n",
    "if math_score < 100:\n",
    "    print(\"You are great at math!\",math_score)\n",
    "    \n",
    "elif math_score <=80:\n",
    "    print(\"Ahh you're close to the highest grade you can get\",math_score)\n",
    "    \n",
    "elif math_score <=50:\n",
    "    print(\"Oh you can definitely do better than this\",math_score)\n",
    "\n",
    "elif math_score <= 20:\n",
    "    print(\"I'm afraid that is not a great score\",math_score) #it should pick up this statement"
   ]
  },
  {
   "cell_type": "code",
   "execution_count": null,
   "metadata": {},
   "outputs": [],
   "source": []
  },
  {
   "cell_type": "code",
   "execution_count": null,
   "metadata": {},
   "outputs": [],
   "source": []
  },
  {
   "cell_type": "code",
   "execution_count": null,
   "metadata": {},
   "outputs": [],
   "source": []
  },
  {
   "cell_type": "code",
   "execution_count": null,
   "metadata": {},
   "outputs": [],
   "source": []
  },
  {
   "cell_type": "code",
   "execution_count": null,
   "metadata": {},
   "outputs": [],
   "source": []
  },
  {
   "cell_type": "code",
   "execution_count": null,
   "metadata": {},
   "outputs": [],
   "source": []
  },
  {
   "cell_type": "code",
   "execution_count": null,
   "metadata": {},
   "outputs": [],
   "source": []
  },
  {
   "cell_type": "code",
   "execution_count": null,
   "metadata": {},
   "outputs": [],
   "source": []
  },
  {
   "cell_type": "code",
   "execution_count": null,
   "metadata": {},
   "outputs": [],
   "source": []
  },
  {
   "cell_type": "code",
   "execution_count": null,
   "metadata": {},
   "outputs": [],
   "source": []
  }
 ],
 "metadata": {
  "kernelspec": {
   "display_name": "Python 3",
   "language": "python",
   "name": "python3"
  },
  "language_info": {
   "codemirror_mode": {
    "name": "ipython",
    "version": 3
   },
   "file_extension": ".py",
   "mimetype": "text/x-python",
   "name": "python",
   "nbconvert_exporter": "python",
   "pygments_lexer": "ipython3",
   "version": "3.7.6"
  }
 },
 "nbformat": 4,
 "nbformat_minor": 4
}
