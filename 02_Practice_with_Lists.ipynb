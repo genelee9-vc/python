{
 "cells": [
  {
   "cell_type": "code",
   "execution_count": 1,
   "metadata": {},
   "outputs": [],
   "source": [
    "empty_list=[]"
   ]
  },
  {
   "cell_type": "code",
   "execution_count": 2,
   "metadata": {},
   "outputs": [
    {
     "data": {
      "text/plain": [
       "list"
      ]
     },
     "execution_count": 2,
     "metadata": {},
     "output_type": "execute_result"
    }
   ],
   "source": [
    "type(empty_list)"
   ]
  },
  {
   "cell_type": "code",
   "execution_count": 3,
   "metadata": {},
   "outputs": [
    {
     "data": {
      "text/plain": [
       "[]"
      ]
     },
     "execution_count": 3,
     "metadata": {},
     "output_type": "execute_result"
    }
   ],
   "source": [
    "empty_list"
   ]
  },
  {
   "cell_type": "code",
   "execution_count": 4,
   "metadata": {},
   "outputs": [
    {
     "name": "stdout",
     "output_type": "stream",
     "text": [
      "[]\n"
     ]
    }
   ],
   "source": [
    "print(empty_list)"
   ]
  },
  {
   "cell_type": "code",
   "execution_count": 8,
   "metadata": {},
   "outputs": [
    {
     "name": "stdout",
     "output_type": "stream",
     "text": [
      "I am the | Walrus | kookookachoo\n"
     ]
    }
   ],
   "source": [
    "print(\"I am the\",\"Walrus\",\"kookookachoo\",sep=\" | \")"
   ]
  },
  {
   "cell_type": "code",
   "execution_count": 10,
   "metadata": {},
   "outputs": [
    {
     "data": {
      "text/plain": [
       "[1, 2, 3, 4, 5]"
      ]
     },
     "execution_count": 10,
     "metadata": {},
     "output_type": "execute_result"
    }
   ],
   "source": [
    "int_list = [1,2,3,4,5]\n",
    "int_list"
   ]
  },
  {
   "cell_type": "code",
   "execution_count": 11,
   "metadata": {},
   "outputs": [
    {
     "data": {
      "text/plain": [
       "['I am the', 'Walrus', 'kookookachoo']"
      ]
     },
     "execution_count": 11,
     "metadata": {},
     "output_type": "execute_result"
    }
   ],
   "source": [
    "string_list = [\"I am the\",\"Walrus\",\"kookookachoo\"]\n",
    "string_list"
   ]
  },
  {
   "cell_type": "code",
   "execution_count": 12,
   "metadata": {},
   "outputs": [
    {
     "data": {
      "text/plain": [
       "[5, 'Walrus', True, 2.5589]"
      ]
     },
     "execution_count": 12,
     "metadata": {},
     "output_type": "execute_result"
    }
   ],
   "source": [
    "mixed_list = [5,\"Walrus\",True,2.5589]\n",
    "mixed_list"
   ]
  },
  {
   "cell_type": "code",
   "execution_count": 13,
   "metadata": {},
   "outputs": [
    {
     "data": {
      "text/plain": [
       "list"
      ]
     },
     "execution_count": 13,
     "metadata": {},
     "output_type": "execute_result"
    }
   ],
   "source": [
    "type(mixed_list)"
   ]
  },
  {
   "cell_type": "code",
   "execution_count": 15,
   "metadata": {},
   "outputs": [
    {
     "data": {
      "text/plain": [
       "['Airbus A380', 'Airbus A350', 'Prototype Airbus A390']"
      ]
     },
     "execution_count": 15,
     "metadata": {},
     "output_type": "execute_result"
    }
   ],
   "source": [
    "airbus_planes = [\"Airbus A380\",\"Airbus A350\",\"Prototype Airbus A390\"]\n",
    "airbus_planes"
   ]
  },
  {
   "cell_type": "code",
   "execution_count": 16,
   "metadata": {},
   "outputs": [
    {
     "data": {
      "text/plain": [
       "'Airbus A380'"
      ]
     },
     "execution_count": 16,
     "metadata": {},
     "output_type": "execute_result"
    }
   ],
   "source": [
    "airbus_planes[0]"
   ]
  },
  {
   "cell_type": "code",
   "execution_count": 18,
   "metadata": {},
   "outputs": [
    {
     "data": {
      "text/plain": [
       "'Prototype Airbus A390'"
      ]
     },
     "execution_count": 18,
     "metadata": {},
     "output_type": "execute_result"
    }
   ],
   "source": [
    "airbus_planes[2]"
   ]
  },
  {
   "cell_type": "code",
   "execution_count": 20,
   "metadata": {},
   "outputs": [
    {
     "data": {
      "text/plain": [
       "'Airbus A350'"
      ]
     },
     "execution_count": 20,
     "metadata": {},
     "output_type": "execute_result"
    }
   ],
   "source": [
    "airbus_planes[1]"
   ]
  },
  {
   "cell_type": "code",
   "execution_count": 21,
   "metadata": {},
   "outputs": [
    {
     "data": {
      "text/plain": [
       "3"
      ]
     },
     "execution_count": 21,
     "metadata": {},
     "output_type": "execute_result"
    }
   ],
   "source": [
    "len(airbus_planes)"
   ]
  },
  {
   "cell_type": "code",
   "execution_count": 22,
   "metadata": {},
   "outputs": [
    {
     "data": {
      "text/plain": [
       "['Airbus A350', 'Airbus A380', 'Prototype Airbus A390']"
      ]
     },
     "execution_count": 22,
     "metadata": {},
     "output_type": "execute_result"
    }
   ],
   "source": [
    "sorted(airbus_planes)"
   ]
  },
  {
   "cell_type": "code",
   "execution_count": 24,
   "metadata": {},
   "outputs": [
    {
     "data": {
      "text/plain": [
       "['Boeing 707', 'Boeing 717', 'Boeing 727', 'Boeing 737']"
      ]
     },
     "execution_count": 24,
     "metadata": {},
     "output_type": "execute_result"
    }
   ],
   "source": [
    "boeing_planes = ['Boeing 707','Boeing 717','Boeing 727','Boeing 737']\n",
    "boeing_planes"
   ]
  },
  {
   "cell_type": "code",
   "execution_count": 25,
   "metadata": {},
   "outputs": [
    {
     "data": {
      "text/plain": [
       "'Boeing 737'"
      ]
     },
     "execution_count": 25,
     "metadata": {},
     "output_type": "execute_result"
    }
   ],
   "source": [
    "boeing_planes[3]"
   ]
  },
  {
   "cell_type": "code",
   "execution_count": 27,
   "metadata": {},
   "outputs": [
    {
     "data": {
      "text/plain": [
       "['Boeing 707', 'Boeing 717', 'Boeing 727', 'Boeing 737 Original']"
      ]
     },
     "execution_count": 27,
     "metadata": {},
     "output_type": "execute_result"
    }
   ],
   "source": [
    "boeing_planes[3] = \"Boeing 737 Original\"\n",
    "boeing_planes"
   ]
  },
  {
   "cell_type": "code",
   "execution_count": 28,
   "metadata": {},
   "outputs": [
    {
     "ename": "TypeError",
     "evalue": "can only concatenate list (not \"str\") to list",
     "output_type": "error",
     "traceback": [
      "\u001b[1;31m---------------------------------------------------------------------------\u001b[0m",
      "\u001b[1;31mTypeError\u001b[0m                                 Traceback (most recent call last)",
      "\u001b[1;32m<ipython-input-28-b073030c2335>\u001b[0m in \u001b[0;36m<module>\u001b[1;34m\u001b[0m\n\u001b[1;32m----> 1\u001b[1;33m \u001b[0mboeing_planes_v2\u001b[0m \u001b[1;33m=\u001b[0m \u001b[0mboeing_planes\u001b[0m \u001b[1;33m+\u001b[0m \u001b[1;34m\"Boeing 737 Airmax\"\u001b[0m\u001b[1;33m\u001b[0m\u001b[1;33m\u001b[0m\u001b[0m\n\u001b[0m",
      "\u001b[1;31mTypeError\u001b[0m: can only concatenate list (not \"str\") to list"
     ]
    }
   ],
   "source": [
    "boeing_planes_v2 = boeing_planes + \"Boeing 737 Airmax\""
   ]
  },
  {
   "cell_type": "code",
   "execution_count": 30,
   "metadata": {},
   "outputs": [
    {
     "data": {
      "text/plain": [
       "['boeing_planesBoeing 737 Airmax']"
      ]
     },
     "execution_count": 30,
     "metadata": {},
     "output_type": "execute_result"
    }
   ],
   "source": [
    "boeing_planes_v2 = ['boeing_planes'+\"Boeing 737 Airmax\"]\n",
    "boeing_planes_v2"
   ]
  },
  {
   "cell_type": "code",
   "execution_count": 32,
   "metadata": {},
   "outputs": [
    {
     "ename": "NameError",
     "evalue": "name 'boeing_planes_v2' is not defined",
     "output_type": "error",
     "traceback": [
      "\u001b[1;31m---------------------------------------------------------------------------\u001b[0m",
      "\u001b[1;31mNameError\u001b[0m                                 Traceback (most recent call last)",
      "\u001b[1;32m<ipython-input-32-c4bc9f9fe21c>\u001b[0m in \u001b[0;36m<module>\u001b[1;34m\u001b[0m\n\u001b[1;32m----> 1\u001b[1;33m \u001b[1;32mdel\u001b[0m\u001b[1;33m(\u001b[0m\u001b[0mboeing_planes_v2\u001b[0m\u001b[1;33m)\u001b[0m\u001b[1;33m\u001b[0m\u001b[1;33m\u001b[0m\u001b[0m\n\u001b[0m\u001b[0;32m      2\u001b[0m \u001b[0mboeing_planes_v2\u001b[0m\u001b[1;33m\u001b[0m\u001b[1;33m\u001b[0m\u001b[0m\n",
      "\u001b[1;31mNameError\u001b[0m: name 'boeing_planes_v2' is not defined"
     ]
    }
   ],
   "source": [
    "del(boeing_planes_v2)\n",
    "boeing_planes_v2"
   ]
  },
  {
   "cell_type": "code",
   "execution_count": 36,
   "metadata": {},
   "outputs": [
    {
     "data": {
      "text/plain": [
       "[['Boeing 707', 'Boeing 717', 'Boeing 727', 'Boeing 737 Original'],\n",
       " 'Boeing 737 Airmax']"
      ]
     },
     "execution_count": 36,
     "metadata": {},
     "output_type": "execute_result"
    }
   ],
   "source": [
    "boeing_planes_v2 = [boeing_planes,\"Boeing 737 Airmax\"]\n",
    "boeing_planes_v2"
   ]
  },
  {
   "cell_type": "code",
   "execution_count": 41,
   "metadata": {},
   "outputs": [
    {
     "data": {
      "text/plain": [
       "list"
      ]
     },
     "execution_count": 41,
     "metadata": {},
     "output_type": "execute_result"
    }
   ],
   "source": [
    "type(boeing_planes_v2)"
   ]
  },
  {
   "cell_type": "code",
   "execution_count": 42,
   "metadata": {},
   "outputs": [
    {
     "data": {
      "text/plain": [
       "['Boeing 707', 'Boeing 717', 'Boeing 727']"
      ]
     },
     "execution_count": 42,
     "metadata": {},
     "output_type": "execute_result"
    }
   ],
   "source": [
    "boeing_planes[0:3]"
   ]
  },
  {
   "cell_type": "code",
   "execution_count": 43,
   "metadata": {},
   "outputs": [
    {
     "data": {
      "text/plain": [
       "['Boeing 707', 'Boeing 717', 'Boeing 727', 'Boeing 737 Original']"
      ]
     },
     "execution_count": 43,
     "metadata": {},
     "output_type": "execute_result"
    }
   ],
   "source": [
    "boeing_planes[0:4]"
   ]
  },
  {
   "cell_type": "code",
   "execution_count": 44,
   "metadata": {},
   "outputs": [
    {
     "data": {
      "text/plain": [
       "['Boeing 727', 'Boeing 737 Original']"
      ]
     },
     "execution_count": 44,
     "metadata": {},
     "output_type": "execute_result"
    }
   ],
   "source": [
    "boeing_planes[2:4]"
   ]
  },
  {
   "cell_type": "code",
   "execution_count": 45,
   "metadata": {},
   "outputs": [
    {
     "data": {
      "text/plain": [
       "['Boeing 707', 'Boeing 717', 'Boeing 727']"
      ]
     },
     "execution_count": 45,
     "metadata": {},
     "output_type": "execute_result"
    }
   ],
   "source": [
    "boeing_planes[0:-1]"
   ]
  },
  {
   "cell_type": "code",
   "execution_count": 49,
   "metadata": {},
   "outputs": [
    {
     "data": {
      "text/plain": [
       "['Boeing 707',\n",
       " 'Boeing 717',\n",
       " 'Boeing 727',\n",
       " 'Boeing 737 Original',\n",
       " 'Boeing 737 Airmax']"
      ]
     },
     "execution_count": 49,
     "metadata": {},
     "output_type": "execute_result"
    }
   ],
   "source": [
    "#Append command adds record to END of the list\n",
    "boeing_planes.append(\"Boeing 737 Airmax\")\n",
    "boeing_planes"
   ]
  },
  {
   "cell_type": "code",
   "execution_count": 52,
   "metadata": {},
   "outputs": [
    {
     "data": {
      "text/plain": [
       "['Boeing 707',\n",
       " 'Boeing 717',\n",
       " 'Boeing 727',\n",
       " 'Boeing 737 Original',\n",
       " 'Boeing 737 Airmax',\n",
       " 'Boeing 747',\n",
       " 'Boeing 767']"
      ]
     },
     "execution_count": 52,
     "metadata": {},
     "output_type": "execute_result"
    }
   ],
   "source": [
    "boeing_planes.append('Boeing 767')\n",
    "boeing_planes"
   ]
  },
  {
   "cell_type": "code",
   "execution_count": 53,
   "metadata": {},
   "outputs": [
    {
     "data": {
      "text/plain": [
       "['Boeing 707',\n",
       " 'Boeing 717',\n",
       " 'Boeing 727',\n",
       " 'Boeing 737 Airmax',\n",
       " 'Boeing 737 Original',\n",
       " 'Boeing 747',\n",
       " 'Boeing 767']"
      ]
     },
     "execution_count": 53,
     "metadata": {},
     "output_type": "execute_result"
    }
   ],
   "source": [
    "sorted(boeing_planes)"
   ]
  },
  {
   "cell_type": "code",
   "execution_count": 54,
   "metadata": {},
   "outputs": [
    {
     "data": {
      "text/plain": [
       "['Boeing 707',\n",
       " 'Boeing 717',\n",
       " 'Boeing 727',\n",
       " 'Boeing 737 Original',\n",
       " 'Boeing 737 Classic',\n",
       " 'Boeing 737 Airmax',\n",
       " 'Boeing 747',\n",
       " 'Boeing 767']"
      ]
     },
     "execution_count": 54,
     "metadata": {},
     "output_type": "execute_result"
    }
   ],
   "source": [
    "#Insert command can specify where to insert using indexing\n",
    "boeing_planes.insert(4,\"Boeing 737 Classic\")\n",
    "boeing_planes"
   ]
  },
  {
   "cell_type": "code",
   "execution_count": 55,
   "metadata": {},
   "outputs": [
    {
     "data": {
      "text/plain": [
       "['Boeing 707',\n",
       " 'Boeing 717',\n",
       " 'Boeing 747-8',\n",
       " 'Boeing 727',\n",
       " 'Boeing 737 Original',\n",
       " 'Boeing 737 Classic',\n",
       " 'Boeing 737 Airmax',\n",
       " 'Boeing 747',\n",
       " 'Boeing 767']"
      ]
     },
     "execution_count": 55,
     "metadata": {},
     "output_type": "execute_result"
    }
   ],
   "source": [
    "boeing_planes.insert(2,\"Boeing 747-8\")\n",
    "boeing_planes"
   ]
  },
  {
   "cell_type": "code",
   "execution_count": 56,
   "metadata": {},
   "outputs": [
    {
     "data": {
      "text/plain": [
       "['Boeing 707',\n",
       " 'Boeing 717',\n",
       " 'Boeing 747-8',\n",
       " 'Boeing 777X',\n",
       " 'Boeing 727',\n",
       " 'Boeing 737 Original',\n",
       " 'Boeing 737 Classic',\n",
       " 'Boeing 737 Airmax',\n",
       " 'Boeing 747',\n",
       " 'Boeing 767']"
      ]
     },
     "execution_count": 56,
     "metadata": {},
     "output_type": "execute_result"
    }
   ],
   "source": [
    "boeing_planes.insert(3,\"Boeing 777X\")\n",
    "boeing_planes"
   ]
  },
  {
   "cell_type": "code",
   "execution_count": 57,
   "metadata": {},
   "outputs": [
    {
     "data": {
      "text/plain": [
       "['Boeing 787',\n",
       " 'Boeing 707',\n",
       " 'Boeing 757',\n",
       " 'Boeing 717',\n",
       " 'Boeing 747-8',\n",
       " 'Boeing 777X',\n",
       " 'Boeing 727',\n",
       " 'Boeing 737 Original',\n",
       " 'Boeing 737 Classic',\n",
       " 'Boeing 737 Airmax',\n",
       " 'Boeing 747',\n",
       " 'Boeing 767']"
      ]
     },
     "execution_count": 57,
     "metadata": {},
     "output_type": "execute_result"
    }
   ],
   "source": [
    "boeing_planes.insert(1,\"Boeing 757\")\n",
    "boeing_planes.insert(0,\"Boeing 787\")\n",
    "boeing_planes"
   ]
  },
  {
   "cell_type": "code",
   "execution_count": 58,
   "metadata": {},
   "outputs": [
    {
     "data": {
      "text/plain": [
       "['Boeing 707',\n",
       " 'Boeing 717',\n",
       " 'Boeing 727',\n",
       " 'Boeing 737 Airmax',\n",
       " 'Boeing 737 Classic',\n",
       " 'Boeing 737 Original',\n",
       " 'Boeing 747',\n",
       " 'Boeing 747-8',\n",
       " 'Boeing 757',\n",
       " 'Boeing 767',\n",
       " 'Boeing 777X',\n",
       " 'Boeing 787']"
      ]
     },
     "execution_count": 58,
     "metadata": {},
     "output_type": "execute_result"
    }
   ],
   "source": [
    "sorted(boeing_planes)"
   ]
  },
  {
   "cell_type": "code",
   "execution_count": 59,
   "metadata": {},
   "outputs": [
    {
     "data": {
      "text/plain": [
       "['Boeing 787',\n",
       " 'Boeing 777X',\n",
       " 'Boeing 767',\n",
       " 'Boeing 757',\n",
       " 'Boeing 747-8',\n",
       " 'Boeing 747',\n",
       " 'Boeing 737 Original',\n",
       " 'Boeing 737 Classic',\n",
       " 'Boeing 737 Airmax',\n",
       " 'Boeing 727',\n",
       " 'Boeing 717',\n",
       " 'Boeing 707']"
      ]
     },
     "execution_count": 59,
     "metadata": {},
     "output_type": "execute_result"
    }
   ],
   "source": [
    "sorted(boeing_planes,reverse=True)"
   ]
  },
  {
   "cell_type": "code",
   "execution_count": 65,
   "metadata": {},
   "outputs": [
    {
     "data": {
      "text/plain": [
       "12"
      ]
     },
     "execution_count": 65,
     "metadata": {},
     "output_type": "execute_result"
    }
   ],
   "source": [
    "#Counts the records in the list\n",
    "len(boeing_planes)"
   ]
  },
  {
   "cell_type": "code",
   "execution_count": 66,
   "metadata": {},
   "outputs": [
    {
     "data": {
      "text/plain": [
       "['Hurricane', 'Tiger Moth']"
      ]
     },
     "execution_count": 66,
     "metadata": {},
     "output_type": "execute_result"
    }
   ],
   "source": [
    "fighter_jets = ['Hurricane','Tiger Moth']\n",
    "fighter_jets"
   ]
  },
  {
   "cell_type": "code",
   "execution_count": 67,
   "metadata": {},
   "outputs": [
    {
     "data": {
      "text/plain": [
       "['Hurricane', 'F-16', 'Tiger Moth']"
      ]
     },
     "execution_count": 67,
     "metadata": {},
     "output_type": "execute_result"
    }
   ],
   "source": [
    "fighter_jets.insert(1,\"F-16\")\n",
    "fighter_jets"
   ]
  },
  {
   "cell_type": "code",
   "execution_count": 68,
   "metadata": {},
   "outputs": [
    {
     "data": {
      "text/plain": [
       "['F-16', 'Tiger Moth']"
      ]
     },
     "execution_count": 68,
     "metadata": {},
     "output_type": "execute_result"
    }
   ],
   "source": [
    "fighter_jets.remove(\"Hurricane\")\n",
    "fighter_jets"
   ]
  },
  {
   "cell_type": "code",
   "execution_count": 69,
   "metadata": {},
   "outputs": [
    {
     "data": {
      "text/plain": [
       "['Hurricane', 'F-16', 'Tiger Moth']"
      ]
     },
     "execution_count": 69,
     "metadata": {},
     "output_type": "execute_result"
    }
   ],
   "source": [
    "fighter_jets.insert(0,\"Hurricane\")\n",
    "fighter_jets"
   ]
  },
  {
   "cell_type": "code",
   "execution_count": 71,
   "metadata": {},
   "outputs": [
    {
     "data": {
      "text/plain": [
       "'Tiger Moth'"
      ]
     },
     "execution_count": 71,
     "metadata": {},
     "output_type": "execute_result"
    }
   ],
   "source": [
    "#Command to remove last record from original list\n",
    "last_jet = fighter_jets.pop()\n",
    "last_jet"
   ]
  },
  {
   "cell_type": "code",
   "execution_count": 72,
   "metadata": {},
   "outputs": [
    {
     "data": {
      "text/plain": [
       "['Hurricane', 'F-16']"
      ]
     },
     "execution_count": 72,
     "metadata": {},
     "output_type": "execute_result"
    }
   ],
   "source": [
    "fighter_jets"
   ]
  },
  {
   "cell_type": "code",
   "execution_count": 73,
   "metadata": {},
   "outputs": [
    {
     "data": {
      "text/plain": [
       "['Hurricane', 'Tiger Moth', 'F-14', 'F-16', 'Tiger Moth']"
      ]
     },
     "execution_count": 73,
     "metadata": {},
     "output_type": "execute_result"
    }
   ],
   "source": [
    "fighter_jets = [\"Hurricane\",\"Tiger Moth\",\"F-14\",\"F-16\",\"Tiger Moth\"]\n",
    "fighter_jets"
   ]
  },
  {
   "cell_type": "code",
   "execution_count": 74,
   "metadata": {},
   "outputs": [
    {
     "data": {
      "text/plain": [
       "['F-14', 'F-16', 'Hurricane', 'Tiger Moth', 'Tiger Moth']"
      ]
     },
     "execution_count": 74,
     "metadata": {},
     "output_type": "execute_result"
    }
   ],
   "source": [
    "fighter_jets.sort()\n",
    "fighter_jets"
   ]
  },
  {
   "cell_type": "code",
   "execution_count": 75,
   "metadata": {},
   "outputs": [
    {
     "data": {
      "text/plain": [
       "['F-14', 'F-16', 'Hurricane', 'Tiger Moth', 'Tiger Moth']"
      ]
     },
     "execution_count": 75,
     "metadata": {},
     "output_type": "execute_result"
    }
   ],
   "source": [
    "fighter_jets"
   ]
  },
  {
   "cell_type": "code",
   "execution_count": 76,
   "metadata": {},
   "outputs": [
    {
     "data": {
      "text/plain": [
       "['Tiger Moth', 'Tiger Moth', 'Hurricane', 'F-16', 'F-14']"
      ]
     },
     "execution_count": 76,
     "metadata": {},
     "output_type": "execute_result"
    }
   ],
   "source": [
    "fighter_jets.reverse()\n",
    "fighter_jets"
   ]
  },
  {
   "cell_type": "code",
   "execution_count": 77,
   "metadata": {},
   "outputs": [
    {
     "data": {
      "text/plain": [
       "['Tiger Moth', 'Tiger Moth', 'Hurricane', 'F-16', 'F-14', 'F-18']"
      ]
     },
     "execution_count": 77,
     "metadata": {},
     "output_type": "execute_result"
    }
   ],
   "source": [
    "fighter_jets.append(\"F-18\")\n",
    "fighter_jets"
   ]
  },
  {
   "cell_type": "code",
   "execution_count": 78,
   "metadata": {},
   "outputs": [
    {
     "data": {
      "text/plain": [
       "['F-14', 'F-16', 'F-18', 'Hurricane', 'Tiger Moth', 'Tiger Moth']"
      ]
     },
     "execution_count": 78,
     "metadata": {},
     "output_type": "execute_result"
    }
   ],
   "source": [
    "fighter_jets.sort()\n",
    "fighter_jets"
   ]
  },
  {
   "cell_type": "code",
   "execution_count": 79,
   "metadata": {},
   "outputs": [
    {
     "data": {
      "text/plain": [
       "['F-14', 'F-16', 'F-18', 'Hurricane', 'Tiger Moth']"
      ]
     },
     "execution_count": 79,
     "metadata": {},
     "output_type": "execute_result"
    }
   ],
   "source": [
    "#Pop command does not need to be declared like in previous example\n",
    "fighter_jets.pop()\n",
    "fighter_jets"
   ]
  },
  {
   "cell_type": "code",
   "execution_count": 80,
   "metadata": {},
   "outputs": [
    {
     "data": {
      "text/plain": [
       "['Airbus A380',\n",
       " 'Airbus A350',\n",
       " 'Prototype Airbus A390',\n",
       " 'Boeing 787',\n",
       " 'Boeing 707',\n",
       " 'Boeing 757',\n",
       " 'Boeing 717',\n",
       " 'Boeing 747-8',\n",
       " 'Boeing 777X',\n",
       " 'Boeing 727',\n",
       " 'Boeing 737 Original',\n",
       " 'Boeing 737 Classic',\n",
       " 'Boeing 737 Airmax',\n",
       " 'Boeing 747',\n",
       " 'Boeing 767',\n",
       " 'F-14',\n",
       " 'F-16',\n",
       " 'F-18',\n",
       " 'Hurricane',\n",
       " 'Tiger Moth']"
      ]
     },
     "execution_count": 80,
     "metadata": {},
     "output_type": "execute_result"
    }
   ],
   "source": [
    "all_planes = airbus_planes + boeing_planes + fighter_jets\n",
    "all_planes"
   ]
  },
  {
   "cell_type": "code",
   "execution_count": 87,
   "metadata": {},
   "outputs": [
    {
     "data": {
      "text/plain": [
       "[]"
      ]
     },
     "execution_count": 87,
     "metadata": {},
     "output_type": "execute_result"
    }
   ],
   "source": [
    "airbus_planes_v2 = airbus_planes\n",
    "airbus_planes"
   ]
  },
  {
   "cell_type": "code",
   "execution_count": 82,
   "metadata": {},
   "outputs": [
    {
     "data": {
      "text/plain": [
       "[]"
      ]
     },
     "execution_count": 82,
     "metadata": {},
     "output_type": "execute_result"
    }
   ],
   "source": [
    "#Clearing a list\n",
    "airbus_planes_v2.clear()\n",
    "airbus_planes_v2"
   ]
  },
  {
   "cell_type": "code",
   "execution_count": 88,
   "metadata": {},
   "outputs": [
    {
     "data": {
      "text/plain": [
       "[]"
      ]
     },
     "execution_count": 88,
     "metadata": {},
     "output_type": "execute_result"
    }
   ],
   "source": [
    "airbus_planes"
   ]
  },
  {
   "cell_type": "code",
   "execution_count": 89,
   "metadata": {},
   "outputs": [
    {
     "data": {
      "text/plain": [
       "['Airbus A380', 'Airbus A350', 'Prototype Airbus A390']"
      ]
     },
     "execution_count": 89,
     "metadata": {},
     "output_type": "execute_result"
    }
   ],
   "source": [
    "airbus_planes = ['Airbus A380','Airbus A350','Prototype Airbus A390']\n",
    "airbus_planes"
   ]
  },
  {
   "cell_type": "code",
   "execution_count": 90,
   "metadata": {},
   "outputs": [
    {
     "data": {
      "text/plain": [
       "['Airbus A380',\n",
       " 'Airbus A350',\n",
       " 'Prototype Airbus A390',\n",
       " 'Boeing 787',\n",
       " 'Boeing 707',\n",
       " 'Boeing 757',\n",
       " 'Boeing 717',\n",
       " 'Boeing 747-8',\n",
       " 'Boeing 777X',\n",
       " 'Boeing 727',\n",
       " 'Boeing 737 Original',\n",
       " 'Boeing 737 Classic',\n",
       " 'Boeing 737 Airmax',\n",
       " 'Boeing 747',\n",
       " 'Boeing 767',\n",
       " 'F-14',\n",
       " 'F-16',\n",
       " 'F-18',\n",
       " 'Hurricane',\n",
       " 'Tiger Moth']"
      ]
     },
     "execution_count": 90,
     "metadata": {},
     "output_type": "execute_result"
    }
   ],
   "source": [
    "all_planes"
   ]
  },
  {
   "cell_type": "code",
   "execution_count": 91,
   "metadata": {},
   "outputs": [
    {
     "data": {
      "text/plain": [
       "['F-14', 'F-16', 'F-18', 'Hurricane', 'Tiger Moth']"
      ]
     },
     "execution_count": 91,
     "metadata": {},
     "output_type": "execute_result"
    }
   ],
   "source": [
    "fighter_jets_copy = fighter_jets.copy()\n",
    "fighter_jets_copy"
   ]
  },
  {
   "cell_type": "code",
   "execution_count": 92,
   "metadata": {},
   "outputs": [
    {
     "ename": "NameError",
     "evalue": "name 'fighter_jets' is not defined",
     "output_type": "error",
     "traceback": [
      "\u001b[1;31m---------------------------------------------------------------------------\u001b[0m",
      "\u001b[1;31mNameError\u001b[0m                                 Traceback (most recent call last)",
      "\u001b[1;32m<ipython-input-92-33500720cb09>\u001b[0m in \u001b[0;36m<module>\u001b[1;34m\u001b[0m\n\u001b[0;32m      1\u001b[0m \u001b[1;32mdel\u001b[0m \u001b[0mfighter_jets\u001b[0m\u001b[1;33m\u001b[0m\u001b[1;33m\u001b[0m\u001b[0m\n\u001b[1;32m----> 2\u001b[1;33m \u001b[0mfighter_jets\u001b[0m\u001b[1;33m\u001b[0m\u001b[1;33m\u001b[0m\u001b[0m\n\u001b[0m",
      "\u001b[1;31mNameError\u001b[0m: name 'fighter_jets' is not defined"
     ]
    }
   ],
   "source": [
    "del fighter_jets\n",
    "fighter_jets"
   ]
  },
  {
   "cell_type": "code",
   "execution_count": 93,
   "metadata": {},
   "outputs": [
    {
     "ename": "NameError",
     "evalue": "name 'fighter_jets' is not defined",
     "output_type": "error",
     "traceback": [
      "\u001b[1;31m---------------------------------------------------------------------------\u001b[0m",
      "\u001b[1;31mNameError\u001b[0m                                 Traceback (most recent call last)",
      "\u001b[1;32m<ipython-input-93-b60727fffaa2>\u001b[0m in \u001b[0;36m<module>\u001b[1;34m\u001b[0m\n\u001b[1;32m----> 1\u001b[1;33m \u001b[0mfighter_jets\u001b[0m\u001b[1;33m\u001b[0m\u001b[1;33m\u001b[0m\u001b[0m\n\u001b[0m",
      "\u001b[1;31mNameError\u001b[0m: name 'fighter_jets' is not defined"
     ]
    }
   ],
   "source": [
    "fighter_jets"
   ]
  },
  {
   "cell_type": "code",
   "execution_count": 96,
   "metadata": {},
   "outputs": [
    {
     "data": {
      "text/plain": [
       "['F-16', 'F-18', 'Hurricane', 'Tiger Moth']"
      ]
     },
     "execution_count": 96,
     "metadata": {},
     "output_type": "execute_result"
    }
   ],
   "source": [
    "#Using the assignment variable (equal \"=\" sign) will cause updates to\n",
    "#both datasets in memory\n",
    "fighter_jets_shallow_copy = fighter_jets_copy\n",
    "fighter_jets_shallow_copy.remove(\"F-14\")\n",
    "fighter_jets_copy"
   ]
  },
  {
   "cell_type": "code",
   "execution_count": null,
   "metadata": {},
   "outputs": [],
   "source": []
  }
 ],
 "metadata": {
  "kernelspec": {
   "display_name": "Python 3",
   "language": "python",
   "name": "python3"
  },
  "language_info": {
   "codemirror_mode": {
    "name": "ipython",
    "version": 3
   },
   "file_extension": ".py",
   "mimetype": "text/x-python",
   "name": "python",
   "nbconvert_exporter": "python",
   "pygments_lexer": "ipython3",
   "version": "3.8.2"
  }
 },
 "nbformat": 4,
 "nbformat_minor": 4
}
