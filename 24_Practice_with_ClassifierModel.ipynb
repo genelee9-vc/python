{
 "cells": [
  {
   "cell_type": "code",
   "execution_count": 22,
   "metadata": {},
   "outputs": [],
   "source": [
    "import sys\n",
    "import pandas as pd\n",
    "import numpy as np\n",
    "\n",
    "from sklearn.model_selection import train_test_split\n",
    "\n",
    "from sklearn.linear_model import LogisticRegression\n",
    "from sklearn.tree import DecisionTreeClassifier\n",
    "\n",
    "from sklearn.metrics import classification_report"
   ]
  },
  {
   "cell_type": "code",
   "execution_count": 23,
   "metadata": {},
   "outputs": [],
   "source": [
    "def build_model(classifier_fn,\n",
    "               features,\n",
    "               label,\n",
    "               dataset,\n",
    "               test_frac=0.2):\n",
    "    \n",
    "    X = dataset[features]\n",
    "    Y = dataset[label]\n",
    "    \n",
    "    x_train,x_test,y_train,y_test = train_test_split(X,Y, test_size=test_frac)\n",
    "    \n",
    "    model = classifier_fn(x_train,y_train)\n",
    "    \n",
    "    y_pred = model.predict(x_test)\n",
    "    \n",
    "    #Summarize classification will need to be coded\n",
    "    print('Features used:', features)\n",
    "    summarize_classification(y_test,y_pred)\n",
    "    \n",
    "    #To help debug your model if needed\n",
    "    return {'model':model,\n",
    "           'x_train':x_train,\n",
    "           'y_train':y_train,\n",
    "           'x_test':x_test,\n",
    "           'y_test':y_test,\n",
    "           'y_pred':y_pred}"
   ]
  },
  {
   "cell_type": "code",
   "execution_count": 24,
   "metadata": {},
   "outputs": [],
   "source": [
    "# Code Summarize Classification from above. Uses predicted values from your model and actual Y values from test data\n",
    "def summarize_classification(y_test,y_pred):\n",
    "    report = classification_report(y_test,y_pred)\n",
    "    \n",
    "    print('Classification report')\n",
    "    print('------' * 10)\n",
    "    print(report)"
   ]
  },
  {
   "cell_type": "code",
   "execution_count": 31,
   "metadata": {},
   "outputs": [],
   "source": [
    "def logistic_fn(x_train,y_train,penalty='l2',C=1.0,max_iter=1000):\n",
    "    \n",
    "    model = LogisticRegression(penalty=penalty,C=C,\n",
    "                              max_iter=max_iter, solver='lbfgs')\n",
    "    \n",
    "    model.fit(x_train,y_train)\n",
    "    \n",
    "    return model"
   ]
  },
  {
   "cell_type": "code",
   "execution_count": 32,
   "metadata": {},
   "outputs": [],
   "source": [
    "def decision_tree_fn(x_train,y_train,max_depth=3):\n",
    "    \n",
    "    model = DecisionTreeClassifier(max_depth=max_depth)\n",
    "    model.fit(x_train,y_train)\n",
    "    \n",
    "    return model"
   ]
  },
  {
   "cell_type": "code",
   "execution_count": 33,
   "metadata": {},
   "outputs": [],
   "source": [
    "def main():\n",
    "    \n",
    "    data = pd.read_csv('Data_Files/advertising.csv',\n",
    "                       names=['TimeSpent', 'Age','AreaIncome','DailyInternetUsage',\n",
    "                           'AdHeadline','City','Male','Country','Timestamp','Clicked'],\n",
    "                  header=1)\n",
    "    features = ['TimeSpent','Age','AreaIncome','DailyInternetUsage','Male']\n",
    "    \n",
    "    try:\n",
    "        model_type = sys.argv[1] #This is a command line argument (first argument)\n",
    "        \n",
    "        if len(sys.argv) > 2:  #if there are more than two command line arguments (where features start at 2nd index)\n",
    "            features = sys.argv[2:]\n",
    "            \n",
    "    except error:\n",
    "        print(\"Classifier model not specified!\")\n",
    "            \n",
    "    print('Running classifier:', model_type)\n",
    "        \n",
    "    if model_type =='logistic_regression':\n",
    "        build_model(logistic_fn,\n",
    "                    features,\n",
    "                    'Clicked',\n",
    "                    data)\n",
    "    elif model_type == 'decision_tree':\n",
    "        build_model(decision_tree_fn,\n",
    "                    features,\n",
    "                    'Clicked',\n",
    "                    data)\n",
    "    else:\n",
    "        print('Invalid classifier model')"
   ]
  },
  {
   "cell_type": "code",
   "execution_count": 34,
   "metadata": {},
   "outputs": [
    {
     "name": "stdout",
     "output_type": "stream",
     "text": [
      "Running classifier: -f\n",
      "Invalid classifier model\n"
     ]
    }
   ],
   "source": [
    "#Wrapping invocation of Main function w/ an IF block\n",
    "if __name__ == '__main__':\n",
    "    main()"
   ]
  },
  {
   "cell_type": "code",
   "execution_count": 40,
   "metadata": {},
   "outputs": [],
   "source": [
    "#data = pd.read_csv('Data_Files/advertising.csv',\n",
    "#                   names=['TimeSpent', 'Age','AreaIncome','DailyInternetUsage',\n",
    "#                          'AdHeadline','City','Male','Country','Timestamp','Clicked'],\n",
    "#                   header=1)"
   ]
  },
  {
   "cell_type": "code",
   "execution_count": 38,
   "metadata": {},
   "outputs": [],
   "source": [
    "#INVOKING THE LOGISTIC REGRESSION FUNCTION\n",
    "#build_model(logistic_fn,\n",
    "#           ['TimeSpent', 'Age',\n",
    "#            'AreaIncome','DailyInternetUsage',\n",
    "#            'Male'],\n",
    "#            'Clicked',\n",
    "#            data)"
   ]
  },
  {
   "cell_type": "code",
   "execution_count": 39,
   "metadata": {},
   "outputs": [],
   "source": [
    "#INVOKING THE DECISION TREE FUNCTION\n",
    "#build_model(decision_tree_fn,\n",
    "#           ['TimeSpent', 'Age',\n",
    "#            'AreaIncome','DailyInternetUsage',\n",
    "#            'Male'],\n",
    "#            'Clicked',\n",
    "#            data)"
   ]
  },
  {
   "cell_type": "code",
   "execution_count": null,
   "metadata": {},
   "outputs": [],
   "source": []
  },
  {
   "cell_type": "code",
   "execution_count": null,
   "metadata": {},
   "outputs": [],
   "source": []
  },
  {
   "cell_type": "code",
   "execution_count": null,
   "metadata": {},
   "outputs": [],
   "source": []
  },
  {
   "cell_type": "code",
   "execution_count": null,
   "metadata": {},
   "outputs": [],
   "source": []
  },
  {
   "cell_type": "code",
   "execution_count": null,
   "metadata": {},
   "outputs": [],
   "source": []
  },
  {
   "cell_type": "code",
   "execution_count": null,
   "metadata": {},
   "outputs": [],
   "source": []
  },
  {
   "cell_type": "code",
   "execution_count": null,
   "metadata": {},
   "outputs": [],
   "source": []
  },
  {
   "cell_type": "code",
   "execution_count": null,
   "metadata": {},
   "outputs": [],
   "source": []
  },
  {
   "cell_type": "code",
   "execution_count": null,
   "metadata": {},
   "outputs": [],
   "source": []
  },
  {
   "cell_type": "code",
   "execution_count": null,
   "metadata": {},
   "outputs": [],
   "source": []
  },
  {
   "cell_type": "code",
   "execution_count": null,
   "metadata": {},
   "outputs": [],
   "source": []
  },
  {
   "cell_type": "code",
   "execution_count": null,
   "metadata": {},
   "outputs": [],
   "source": []
  },
  {
   "cell_type": "code",
   "execution_count": null,
   "metadata": {},
   "outputs": [],
   "source": []
  },
  {
   "cell_type": "code",
   "execution_count": null,
   "metadata": {},
   "outputs": [],
   "source": []
  },
  {
   "cell_type": "code",
   "execution_count": null,
   "metadata": {},
   "outputs": [],
   "source": []
  },
  {
   "cell_type": "code",
   "execution_count": null,
   "metadata": {},
   "outputs": [],
   "source": []
  },
  {
   "cell_type": "code",
   "execution_count": null,
   "metadata": {},
   "outputs": [],
   "source": []
  },
  {
   "cell_type": "code",
   "execution_count": null,
   "metadata": {},
   "outputs": [],
   "source": []
  }
 ],
 "metadata": {
  "kernelspec": {
   "display_name": "Python 3.8.2 64-bit",
   "language": "python",
   "name": "python38264bit3b7b80a442be44deae880250beb3f73f"
  },
  "language_info": {
   "codemirror_mode": {
    "name": "ipython",
    "version": 3
   },
   "file_extension": ".py",
   "mimetype": "text/x-python",
   "name": "python",
   "nbconvert_exporter": "python",
   "pygments_lexer": "ipython3",
   "version": "3.8.2"
  }
 },
 "nbformat": 4,
 "nbformat_minor": 4
}
