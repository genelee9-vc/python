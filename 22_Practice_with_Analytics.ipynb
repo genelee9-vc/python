{
 "cells": [
  {
   "cell_type": "code",
   "execution_count": 2,
   "metadata": {},
   "outputs": [],
   "source": [
    "import pandas as pd\n",
    "import numpy as np"
   ]
  },
  {
   "cell_type": "code",
   "execution_count": 34,
   "metadata": {},
   "outputs": [],
   "source": [
    "data = pd.read_csv('Data_Files/advertising.csv',\n",
    "                  names=['TimeSpent', 'Age','AreaIncome','DailyInternetUsage',\n",
    "                           'AdHeadline','City','Male','Country','Timestamp','Clicked'],\n",
    "                  header=1)"
   ]
  },
  {
   "cell_type": "code",
   "execution_count": 4,
   "metadata": {},
   "outputs": [
    {
     "data": {
      "text/html": [
       "<div>\n",
       "<style scoped>\n",
       "    .dataframe tbody tr th:only-of-type {\n",
       "        vertical-align: middle;\n",
       "    }\n",
       "\n",
       "    .dataframe tbody tr th {\n",
       "        vertical-align: top;\n",
       "    }\n",
       "\n",
       "    .dataframe thead th {\n",
       "        text-align: right;\n",
       "    }\n",
       "</style>\n",
       "<table border=\"1\" class=\"dataframe\">\n",
       "  <thead>\n",
       "    <tr style=\"text-align: right;\">\n",
       "      <th></th>\n",
       "      <th>TimeSpent</th>\n",
       "      <th>Age</th>\n",
       "      <th>AreaIncome</th>\n",
       "      <th>DailyInternetUsage</th>\n",
       "      <th>AdHeadline</th>\n",
       "      <th>City</th>\n",
       "      <th>Male</th>\n",
       "      <th>Country</th>\n",
       "      <th>Timestamp</th>\n",
       "      <th>Clicked</th>\n",
       "    </tr>\n",
       "  </thead>\n",
       "  <tbody>\n",
       "    <tr>\n",
       "      <th>468</th>\n",
       "      <td>65.65</td>\n",
       "      <td>25</td>\n",
       "      <td>63879.72</td>\n",
       "      <td>224.92</td>\n",
       "      <td>Intuitive explicit firmware</td>\n",
       "      <td>Sandraville</td>\n",
       "      <td>1</td>\n",
       "      <td>Cook Islands</td>\n",
       "      <td>6/3/2016 6:34</td>\n",
       "      <td>0</td>\n",
       "    </tr>\n",
       "    <tr>\n",
       "      <th>222</th>\n",
       "      <td>60.94</td>\n",
       "      <td>41</td>\n",
       "      <td>76893.84</td>\n",
       "      <td>154.97</td>\n",
       "      <td>Fundamental fault-tolerant neural-net</td>\n",
       "      <td>Garciaview</td>\n",
       "      <td>0</td>\n",
       "      <td>Latvia</td>\n",
       "      <td>2/14/2016 7:30</td>\n",
       "      <td>1</td>\n",
       "    </tr>\n",
       "    <tr>\n",
       "      <th>815</th>\n",
       "      <td>36.91</td>\n",
       "      <td>48</td>\n",
       "      <td>54645.20</td>\n",
       "      <td>159.69</td>\n",
       "      <td>Ameliorated coherent open architecture</td>\n",
       "      <td>North Samantha</td>\n",
       "      <td>0</td>\n",
       "      <td>Zimbabwe</td>\n",
       "      <td>2/24/2016 7:13</td>\n",
       "      <td>1</td>\n",
       "    </tr>\n",
       "    <tr>\n",
       "      <th>762</th>\n",
       "      <td>52.35</td>\n",
       "      <td>25</td>\n",
       "      <td>33293.78</td>\n",
       "      <td>147.61</td>\n",
       "      <td>Mandatory 4thgeneration structure</td>\n",
       "      <td>Jessicashire</td>\n",
       "      <td>1</td>\n",
       "      <td>Mali</td>\n",
       "      <td>6/5/2016 7:54</td>\n",
       "      <td>1</td>\n",
       "    </tr>\n",
       "    <tr>\n",
       "      <th>128</th>\n",
       "      <td>67.36</td>\n",
       "      <td>37</td>\n",
       "      <td>73104.47</td>\n",
       "      <td>233.56</td>\n",
       "      <td>Future-proofed grid-enabled implementation</td>\n",
       "      <td>North Wesleychester</td>\n",
       "      <td>0</td>\n",
       "      <td>Jersey</td>\n",
       "      <td>7/6/2016 16:00</td>\n",
       "      <td>0</td>\n",
       "    </tr>\n",
       "  </tbody>\n",
       "</table>\n",
       "</div>"
      ],
      "text/plain": [
       "     TimeSpent  Age  AreaIncome  DailyInternetUsage  \\\n",
       "468      65.65   25    63879.72              224.92   \n",
       "222      60.94   41    76893.84              154.97   \n",
       "815      36.91   48    54645.20              159.69   \n",
       "762      52.35   25    33293.78              147.61   \n",
       "128      67.36   37    73104.47              233.56   \n",
       "\n",
       "                                     AdHeadline                 City  Male  \\\n",
       "468                 Intuitive explicit firmware          Sandraville     1   \n",
       "222       Fundamental fault-tolerant neural-net           Garciaview     0   \n",
       "815      Ameliorated coherent open architecture       North Samantha     0   \n",
       "762           Mandatory 4thgeneration structure         Jessicashire     1   \n",
       "128  Future-proofed grid-enabled implementation  North Wesleychester     0   \n",
       "\n",
       "          Country       Timestamp  Clicked  \n",
       "468  Cook Islands   6/3/2016 6:34        0  \n",
       "222        Latvia  2/14/2016 7:30        1  \n",
       "815      Zimbabwe  2/24/2016 7:13        1  \n",
       "762          Mali   6/5/2016 7:54        1  \n",
       "128        Jersey  7/6/2016 16:00        0  "
      ]
     },
     "execution_count": 4,
     "metadata": {},
     "output_type": "execute_result"
    }
   ],
   "source": [
    "data.sample(5)"
   ]
  },
  {
   "cell_type": "code",
   "execution_count": 5,
   "metadata": {},
   "outputs": [
    {
     "name": "stdout",
     "output_type": "stream",
     "text": [
      "<class 'pandas.core.frame.DataFrame'>\n",
      "RangeIndex: 999 entries, 0 to 998\n",
      "Data columns (total 10 columns):\n",
      " #   Column              Non-Null Count  Dtype  \n",
      "---  ------              --------------  -----  \n",
      " 0   TimeSpent           999 non-null    float64\n",
      " 1   Age                 999 non-null    int64  \n",
      " 2   AreaIncome          999 non-null    float64\n",
      " 3   DailyInternetUsage  999 non-null    float64\n",
      " 4   AdHeadline          999 non-null    object \n",
      " 5   City                999 non-null    object \n",
      " 6   Male                999 non-null    int64  \n",
      " 7   Country             999 non-null    object \n",
      " 8   Timestamp           999 non-null    object \n",
      " 9   Clicked             999 non-null    int64  \n",
      "dtypes: float64(3), int64(3), object(4)\n",
      "memory usage: 78.2+ KB\n"
     ]
    }
   ],
   "source": [
    "data.info()"
   ]
  },
  {
   "cell_type": "markdown",
   "metadata": {},
   "source": [
    "# Clean the data"
   ]
  },
  {
   "cell_type": "code",
   "execution_count": 35,
   "metadata": {},
   "outputs": [
    {
     "data": {
      "text/html": [
       "<div>\n",
       "<style scoped>\n",
       "    .dataframe tbody tr th:only-of-type {\n",
       "        vertical-align: middle;\n",
       "    }\n",
       "\n",
       "    .dataframe tbody tr th {\n",
       "        vertical-align: top;\n",
       "    }\n",
       "\n",
       "    .dataframe thead th {\n",
       "        text-align: right;\n",
       "    }\n",
       "</style>\n",
       "<table border=\"1\" class=\"dataframe\">\n",
       "  <thead>\n",
       "    <tr style=\"text-align: right;\">\n",
       "      <th></th>\n",
       "      <th>TimeSpent</th>\n",
       "      <th>Age</th>\n",
       "      <th>AreaIncome</th>\n",
       "      <th>DailyInternetUsage</th>\n",
       "      <th>AdHeadline</th>\n",
       "      <th>City</th>\n",
       "      <th>Male</th>\n",
       "      <th>Country</th>\n",
       "      <th>Timestamp</th>\n",
       "      <th>Clicked</th>\n",
       "    </tr>\n",
       "  </thead>\n",
       "  <tbody>\n",
       "  </tbody>\n",
       "</table>\n",
       "</div>"
      ],
      "text/plain": [
       "Empty DataFrame\n",
       "Columns: [TimeSpent, Age, AreaIncome, DailyInternetUsage, AdHeadline, City, Male, Country, Timestamp, Clicked]\n",
       "Index: []"
      ]
     },
     "execution_count": 35,
     "metadata": {},
     "output_type": "execute_result"
    }
   ],
   "source": [
    "data[data.duplicated()==True]\n",
    "#or data.duplicated().sum()"
   ]
  },
  {
   "cell_type": "code",
   "execution_count": 36,
   "metadata": {},
   "outputs": [
    {
     "data": {
      "text/html": [
       "<div>\n",
       "<style scoped>\n",
       "    .dataframe tbody tr th:only-of-type {\n",
       "        vertical-align: middle;\n",
       "    }\n",
       "\n",
       "    .dataframe tbody tr th {\n",
       "        vertical-align: top;\n",
       "    }\n",
       "\n",
       "    .dataframe thead th {\n",
       "        text-align: right;\n",
       "    }\n",
       "</style>\n",
       "<table border=\"1\" class=\"dataframe\">\n",
       "  <thead>\n",
       "    <tr style=\"text-align: right;\">\n",
       "      <th></th>\n",
       "      <th>TimeSpent</th>\n",
       "      <th>Age</th>\n",
       "      <th>AreaIncome</th>\n",
       "      <th>DailyInternetUsage</th>\n",
       "      <th>AdHeadline</th>\n",
       "      <th>City</th>\n",
       "      <th>Male</th>\n",
       "      <th>Country</th>\n",
       "      <th>Timestamp</th>\n",
       "      <th>Clicked</th>\n",
       "    </tr>\n",
       "  </thead>\n",
       "  <tbody>\n",
       "  </tbody>\n",
       "</table>\n",
       "</div>"
      ],
      "text/plain": [
       "Empty DataFrame\n",
       "Columns: [TimeSpent, Age, AreaIncome, DailyInternetUsage, AdHeadline, City, Male, Country, Timestamp, Clicked]\n",
       "Index: []"
      ]
     },
     "execution_count": 36,
     "metadata": {},
     "output_type": "execute_result"
    }
   ],
   "source": [
    "#if dupes exist:\n",
    "data.drop_duplicates(inplace=True)\n",
    "data[data.duplicated()==True]"
   ]
  },
  {
   "cell_type": "code",
   "execution_count": 37,
   "metadata": {},
   "outputs": [
    {
     "name": "stderr",
     "output_type": "stream",
     "text": [
      "C:\\Users\\g_lee\\AppData\\Local\\Programs\\Python\\Python38\\lib\\site-packages\\pandas\\core\\ops\\array_ops.py:253: FutureWarning: elementwise comparison failed; returning scalar instead, but in the future will perform elementwise comparison\n",
      "  res_values = method(rvalues)\n"
     ]
    },
    {
     "data": {
      "text/html": [
       "<div>\n",
       "<style scoped>\n",
       "    .dataframe tbody tr th:only-of-type {\n",
       "        vertical-align: middle;\n",
       "    }\n",
       "\n",
       "    .dataframe tbody tr th {\n",
       "        vertical-align: top;\n",
       "    }\n",
       "\n",
       "    .dataframe thead th {\n",
       "        text-align: right;\n",
       "    }\n",
       "</style>\n",
       "<table border=\"1\" class=\"dataframe\">\n",
       "  <thead>\n",
       "    <tr style=\"text-align: right;\">\n",
       "      <th></th>\n",
       "      <th>TimeSpent</th>\n",
       "      <th>Age</th>\n",
       "      <th>AreaIncome</th>\n",
       "      <th>DailyInternetUsage</th>\n",
       "      <th>AdHeadline</th>\n",
       "      <th>City</th>\n",
       "      <th>Male</th>\n",
       "      <th>Country</th>\n",
       "      <th>Timestamp</th>\n",
       "      <th>Clicked</th>\n",
       "    </tr>\n",
       "  </thead>\n",
       "  <tbody>\n",
       "  </tbody>\n",
       "</table>\n",
       "</div>"
      ],
      "text/plain": [
       "Empty DataFrame\n",
       "Columns: [TimeSpent, Age, AreaIncome, DailyInternetUsage, AdHeadline, City, Male, Country, Timestamp, Clicked]\n",
       "Index: []"
      ]
     },
     "execution_count": 37,
     "metadata": {},
     "output_type": "execute_result"
    }
   ],
   "source": [
    "data[data['TimeSpent']=='?']\n",
    "#If this came up with records, then:\n",
    "# data.replace('?',np.nan,inplace=True)"
   ]
  },
  {
   "cell_type": "code",
   "execution_count": 146,
   "metadata": {},
   "outputs": [
    {
     "data": {
      "text/plain": [
       "TimeSpent                                                    32.91\n",
       "Age                                                             37\n",
       "AreaIncome                                                 51691.6\n",
       "DailyInternetUsage                                          181.02\n",
       "AdHeadline            Future-proofed fresh-thinking conglomeration\n",
       "City                                                 Elizabethstad\n",
       "Male                                                             0\n",
       "Country                                               South Africa\n",
       "Timestamp                                          7/17/2016 14:26\n",
       "Clicked                                                          1\n",
       "Name: 609, dtype: object"
      ]
     },
     "execution_count": 146,
     "metadata": {},
     "output_type": "execute_result"
    }
   ],
   "source": [
    "data.loc[609]"
   ]
  },
  {
   "cell_type": "code",
   "execution_count": null,
   "metadata": {},
   "outputs": [],
   "source": [
    "# converting fields to numeric\n",
    "# data['TimeSpent'] = pd.to_numeric(data['TimeSpent'])\n",
    "# data['Age'] = pd.to_numeric(data['Age'])"
   ]
  },
  {
   "cell_type": "code",
   "execution_count": 9,
   "metadata": {},
   "outputs": [
    {
     "data": {
      "text/plain": [
       "TimeSpent             0\n",
       "Age                   0\n",
       "AreaIncome            0\n",
       "DailyInternetUsage    0\n",
       "AdHeadline            0\n",
       "City                  0\n",
       "Male                  0\n",
       "Country               0\n",
       "Timestamp             0\n",
       "Clicked               0\n",
       "dtype: int64"
      ]
     },
     "execution_count": 9,
     "metadata": {},
     "output_type": "execute_result"
    }
   ],
   "source": [
    "data.isnull().sum()"
   ]
  },
  {
   "cell_type": "markdown",
   "metadata": {},
   "source": [
    "### No missing records shown above, but if there were:"
   ]
  },
  {
   "cell_type": "code",
   "execution_count": null,
   "metadata": {},
   "outputs": [],
   "source": [
    "# data['Age'] = data['Age'].fillna(data['Age'].median())\n",
    "# data.isnull().sum()\n",
    "\n",
    "# data['TimeSpent'] = data['TimeSpent'].fillna(data['TimeSpent'].median())\n",
    "# data.isnull().sum()\n",
    "\n",
    "# data.dropna(inplace=True)"
   ]
  },
  {
   "cell_type": "markdown",
   "metadata": {},
   "source": [
    "#### You can perform a combination of replaces and drops as seen above"
   ]
  },
  {
   "cell_type": "markdown",
   "metadata": {},
   "source": [
    "# Analyze the data"
   ]
  },
  {
   "cell_type": "code",
   "execution_count": 10,
   "metadata": {},
   "outputs": [],
   "source": [
    "numeric = ['TimeSpent','Age','AreaIncome','DailyInternetUsage']"
   ]
  },
  {
   "cell_type": "code",
   "execution_count": 11,
   "metadata": {},
   "outputs": [
    {
     "data": {
      "text/html": [
       "<div>\n",
       "<style scoped>\n",
       "    .dataframe tbody tr th:only-of-type {\n",
       "        vertical-align: middle;\n",
       "    }\n",
       "\n",
       "    .dataframe tbody tr th {\n",
       "        vertical-align: top;\n",
       "    }\n",
       "\n",
       "    .dataframe thead th {\n",
       "        text-align: right;\n",
       "    }\n",
       "</style>\n",
       "<table border=\"1\" class=\"dataframe\">\n",
       "  <thead>\n",
       "    <tr style=\"text-align: right;\">\n",
       "      <th></th>\n",
       "      <th>TimeSpent</th>\n",
       "      <th>Age</th>\n",
       "      <th>AreaIncome</th>\n",
       "      <th>DailyInternetUsage</th>\n",
       "    </tr>\n",
       "  </thead>\n",
       "  <tbody>\n",
       "    <tr>\n",
       "      <th>count</th>\n",
       "      <td>999.000000</td>\n",
       "      <td>999.000000</td>\n",
       "      <td>999.000000</td>\n",
       "      <td>999.000000</td>\n",
       "    </tr>\n",
       "    <tr>\n",
       "      <th>mean</th>\n",
       "      <td>64.996246</td>\n",
       "      <td>36.010010</td>\n",
       "      <td>54993.159339</td>\n",
       "      <td>179.923934</td>\n",
       "    </tr>\n",
       "    <tr>\n",
       "      <th>std</th>\n",
       "      <td>15.861062</td>\n",
       "      <td>8.789905</td>\n",
       "      <td>13419.607906</td>\n",
       "      <td>43.858176</td>\n",
       "    </tr>\n",
       "    <tr>\n",
       "      <th>min</th>\n",
       "      <td>32.600000</td>\n",
       "      <td>19.000000</td>\n",
       "      <td>13996.500000</td>\n",
       "      <td>104.780000</td>\n",
       "    </tr>\n",
       "    <tr>\n",
       "      <th>25%</th>\n",
       "      <td>51.340000</td>\n",
       "      <td>29.000000</td>\n",
       "      <td>47012.585000</td>\n",
       "      <td>138.790000</td>\n",
       "    </tr>\n",
       "    <tr>\n",
       "      <th>50%</th>\n",
       "      <td>68.180000</td>\n",
       "      <td>35.000000</td>\n",
       "      <td>57009.760000</td>\n",
       "      <td>182.840000</td>\n",
       "    </tr>\n",
       "    <tr>\n",
       "      <th>75%</th>\n",
       "      <td>78.555000</td>\n",
       "      <td>42.000000</td>\n",
       "      <td>65479.350000</td>\n",
       "      <td>218.700000</td>\n",
       "    </tr>\n",
       "    <tr>\n",
       "      <th>max</th>\n",
       "      <td>91.430000</td>\n",
       "      <td>61.000000</td>\n",
       "      <td>79484.800000</td>\n",
       "      <td>269.960000</td>\n",
       "    </tr>\n",
       "  </tbody>\n",
       "</table>\n",
       "</div>"
      ],
      "text/plain": [
       "        TimeSpent         Age    AreaIncome  DailyInternetUsage\n",
       "count  999.000000  999.000000    999.000000          999.000000\n",
       "mean    64.996246   36.010010  54993.159339          179.923934\n",
       "std     15.861062    8.789905  13419.607906           43.858176\n",
       "min     32.600000   19.000000  13996.500000          104.780000\n",
       "25%     51.340000   29.000000  47012.585000          138.790000\n",
       "50%     68.180000   35.000000  57009.760000          182.840000\n",
       "75%     78.555000   42.000000  65479.350000          218.700000\n",
       "max     91.430000   61.000000  79484.800000          269.960000"
      ]
     },
     "execution_count": 11,
     "metadata": {},
     "output_type": "execute_result"
    }
   ],
   "source": [
    "data[numeric].describe()"
   ]
  },
  {
   "cell_type": "code",
   "execution_count": 38,
   "metadata": {},
   "outputs": [],
   "source": [
    "categorical = ['AdHeadline','City','Male','Country','Clicked']"
   ]
  },
  {
   "cell_type": "code",
   "execution_count": 39,
   "metadata": {},
   "outputs": [
    {
     "data": {
      "text/html": [
       "<div>\n",
       "<style scoped>\n",
       "    .dataframe tbody tr th:only-of-type {\n",
       "        vertical-align: middle;\n",
       "    }\n",
       "\n",
       "    .dataframe tbody tr th {\n",
       "        vertical-align: top;\n",
       "    }\n",
       "\n",
       "    .dataframe thead th {\n",
       "        text-align: right;\n",
       "    }\n",
       "</style>\n",
       "<table border=\"1\" class=\"dataframe\">\n",
       "  <thead>\n",
       "    <tr style=\"text-align: right;\">\n",
       "      <th></th>\n",
       "      <th>AdHeadline</th>\n",
       "      <th>City</th>\n",
       "      <th>Country</th>\n",
       "    </tr>\n",
       "  </thead>\n",
       "  <tbody>\n",
       "    <tr>\n",
       "      <th>count</th>\n",
       "      <td>999</td>\n",
       "      <td>999</td>\n",
       "      <td>999</td>\n",
       "    </tr>\n",
       "    <tr>\n",
       "      <th>unique</th>\n",
       "      <td>999</td>\n",
       "      <td>969</td>\n",
       "      <td>237</td>\n",
       "    </tr>\n",
       "    <tr>\n",
       "      <th>top</th>\n",
       "      <td>Enhanced tertiary utilization</td>\n",
       "      <td>Williamsport</td>\n",
       "      <td>France</td>\n",
       "    </tr>\n",
       "    <tr>\n",
       "      <th>freq</th>\n",
       "      <td>1</td>\n",
       "      <td>3</td>\n",
       "      <td>9</td>\n",
       "    </tr>\n",
       "  </tbody>\n",
       "</table>\n",
       "</div>"
      ],
      "text/plain": [
       "                           AdHeadline          City Country\n",
       "count                             999           999     999\n",
       "unique                            999           969     237\n",
       "top     Enhanced tertiary utilization  Williamsport  France\n",
       "freq                                1             3       9"
      ]
     },
     "execution_count": 39,
     "metadata": {},
     "output_type": "execute_result"
    }
   ],
   "source": [
    "data[categorical].describe(include=['O'])"
   ]
  },
  {
   "cell_type": "markdown",
   "metadata": {},
   "source": [
    "### The AdHeadline and City columns do not have much \"predictive\" power"
   ]
  },
  {
   "cell_type": "code",
   "execution_count": 40,
   "metadata": {},
   "outputs": [
    {
     "data": {
      "text/html": [
       "<div>\n",
       "<style scoped>\n",
       "    .dataframe tbody tr th:only-of-type {\n",
       "        vertical-align: middle;\n",
       "    }\n",
       "\n",
       "    .dataframe tbody tr th {\n",
       "        vertical-align: top;\n",
       "    }\n",
       "\n",
       "    .dataframe thead th {\n",
       "        text-align: right;\n",
       "    }\n",
       "</style>\n",
       "<table border=\"1\" class=\"dataframe\">\n",
       "  <thead>\n",
       "    <tr style=\"text-align: right;\">\n",
       "      <th>Clicked</th>\n",
       "      <th>0</th>\n",
       "      <th>1</th>\n",
       "    </tr>\n",
       "    <tr>\n",
       "      <th>Country</th>\n",
       "      <th></th>\n",
       "      <th></th>\n",
       "    </tr>\n",
       "  </thead>\n",
       "  <tbody>\n",
       "    <tr>\n",
       "      <th>Australia</th>\n",
       "      <td>1</td>\n",
       "      <td>7</td>\n",
       "    </tr>\n",
       "    <tr>\n",
       "      <th>Turkey</th>\n",
       "      <td>1</td>\n",
       "      <td>7</td>\n",
       "    </tr>\n",
       "    <tr>\n",
       "      <th>Ethiopia</th>\n",
       "      <td>0</td>\n",
       "      <td>7</td>\n",
       "    </tr>\n",
       "    <tr>\n",
       "      <th>Liberia</th>\n",
       "      <td>2</td>\n",
       "      <td>6</td>\n",
       "    </tr>\n",
       "    <tr>\n",
       "      <th>South Africa</th>\n",
       "      <td>2</td>\n",
       "      <td>6</td>\n",
       "    </tr>\n",
       "    <tr>\n",
       "      <th>Liechtenstein</th>\n",
       "      <td>0</td>\n",
       "      <td>6</td>\n",
       "    </tr>\n",
       "    <tr>\n",
       "      <th>Senegal</th>\n",
       "      <td>3</td>\n",
       "      <td>5</td>\n",
       "    </tr>\n",
       "    <tr>\n",
       "      <th>Peru</th>\n",
       "      <td>3</td>\n",
       "      <td>5</td>\n",
       "    </tr>\n",
       "    <tr>\n",
       "      <th>Mayotte</th>\n",
       "      <td>1</td>\n",
       "      <td>5</td>\n",
       "    </tr>\n",
       "    <tr>\n",
       "      <th>Hungary</th>\n",
       "      <td>1</td>\n",
       "      <td>5</td>\n",
       "    </tr>\n",
       "    <tr>\n",
       "      <th>France</th>\n",
       "      <td>4</td>\n",
       "      <td>5</td>\n",
       "    </tr>\n",
       "    <tr>\n",
       "      <th>Afghanistan</th>\n",
       "      <td>3</td>\n",
       "      <td>5</td>\n",
       "    </tr>\n",
       "    <tr>\n",
       "      <th>Zimbabwe</th>\n",
       "      <td>2</td>\n",
       "      <td>4</td>\n",
       "    </tr>\n",
       "    <tr>\n",
       "      <th>Indonesia</th>\n",
       "      <td>2</td>\n",
       "      <td>4</td>\n",
       "    </tr>\n",
       "    <tr>\n",
       "      <th>China</th>\n",
       "      <td>2</td>\n",
       "      <td>4</td>\n",
       "    </tr>\n",
       "  </tbody>\n",
       "</table>\n",
       "</div>"
      ],
      "text/plain": [
       "Clicked        0  1\n",
       "Country            \n",
       "Australia      1  7\n",
       "Turkey         1  7\n",
       "Ethiopia       0  7\n",
       "Liberia        2  6\n",
       "South Africa   2  6\n",
       "Liechtenstein  0  6\n",
       "Senegal        3  5\n",
       "Peru           3  5\n",
       "Mayotte        1  5\n",
       "Hungary        1  5\n",
       "France         4  5\n",
       "Afghanistan    3  5\n",
       "Zimbabwe       2  4\n",
       "Indonesia      2  4\n",
       "China          2  4"
      ]
     },
     "execution_count": 40,
     "metadata": {},
     "output_type": "execute_result"
    }
   ],
   "source": [
    "pd.crosstab(data['Country'],\n",
    "            data['Clicked']).sort_values(1,0,ascending=False).head(15)"
   ]
  },
  {
   "cell_type": "markdown",
   "metadata": {},
   "source": [
    "### Crosstab sets up a matrix of country info to clicked columns. But due to the low number of records from the SAME country, this indicates that the Country column would not have a lot of predictive power either."
   ]
  },
  {
   "cell_type": "code",
   "execution_count": 41,
   "metadata": {},
   "outputs": [
    {
     "data": {
      "text/html": [
       "<div>\n",
       "<style scoped>\n",
       "    .dataframe tbody tr th:only-of-type {\n",
       "        vertical-align: middle;\n",
       "    }\n",
       "\n",
       "    .dataframe tbody tr th {\n",
       "        vertical-align: top;\n",
       "    }\n",
       "\n",
       "    .dataframe thead th {\n",
       "        text-align: right;\n",
       "    }\n",
       "</style>\n",
       "<table border=\"1\" class=\"dataframe\">\n",
       "  <thead>\n",
       "    <tr style=\"text-align: right;\">\n",
       "      <th>col_0</th>\n",
       "      <th>count</th>\n",
       "    </tr>\n",
       "    <tr>\n",
       "      <th>Country</th>\n",
       "      <th></th>\n",
       "    </tr>\n",
       "  </thead>\n",
       "  <tbody>\n",
       "    <tr>\n",
       "      <th>France</th>\n",
       "      <td>9</td>\n",
       "    </tr>\n",
       "    <tr>\n",
       "      <th>Czech Republic</th>\n",
       "      <td>9</td>\n",
       "    </tr>\n",
       "    <tr>\n",
       "      <th>Afghanistan</th>\n",
       "      <td>8</td>\n",
       "    </tr>\n",
       "    <tr>\n",
       "      <th>Australia</th>\n",
       "      <td>8</td>\n",
       "    </tr>\n",
       "    <tr>\n",
       "      <th>Turkey</th>\n",
       "      <td>8</td>\n",
       "    </tr>\n",
       "    <tr>\n",
       "      <th>South Africa</th>\n",
       "      <td>8</td>\n",
       "    </tr>\n",
       "    <tr>\n",
       "      <th>Senegal</th>\n",
       "      <td>8</td>\n",
       "    </tr>\n",
       "    <tr>\n",
       "      <th>Peru</th>\n",
       "      <td>8</td>\n",
       "    </tr>\n",
       "    <tr>\n",
       "      <th>Micronesia</th>\n",
       "      <td>8</td>\n",
       "    </tr>\n",
       "    <tr>\n",
       "      <th>Greece</th>\n",
       "      <td>8</td>\n",
       "    </tr>\n",
       "  </tbody>\n",
       "</table>\n",
       "</div>"
      ],
      "text/plain": [
       "col_0           count\n",
       "Country              \n",
       "France              9\n",
       "Czech Republic      9\n",
       "Afghanistan         8\n",
       "Australia           8\n",
       "Turkey              8\n",
       "South Africa        8\n",
       "Senegal             8\n",
       "Peru                8\n",
       "Micronesia          8\n",
       "Greece              8"
      ]
     },
     "execution_count": 41,
     "metadata": {},
     "output_type": "execute_result"
    }
   ],
   "source": [
    "pd.crosstab(index = data['Country'],\n",
    "           columns = 'count').sort_values(['count'],ascending=False).head(10)"
   ]
  },
  {
   "cell_type": "markdown",
   "metadata": {},
   "source": [
    "### At the most, we have 9 unique records in a country"
   ]
  },
  {
   "cell_type": "code",
   "execution_count": 42,
   "metadata": {},
   "outputs": [],
   "source": [
    "# If we needed to convert the Date/Timestamp column values\n",
    "\n",
    "data['Timestamp'] = pd.to_datetime(data['Timestamp'])"
   ]
  },
  {
   "cell_type": "code",
   "execution_count": 43,
   "metadata": {},
   "outputs": [],
   "source": [
    "data['Month'] = data['Timestamp'].dt.month\n",
    "data['Day'] = data['Timestamp'].dt.day\n",
    "data['Hour'] = data['Timestamp'].dt.hour"
   ]
  },
  {
   "cell_type": "code",
   "execution_count": 44,
   "metadata": {},
   "outputs": [],
   "source": [
    "data['Weekday'] = data['Timestamp'].dt.dayofweek"
   ]
  },
  {
   "cell_type": "code",
   "execution_count": 45,
   "metadata": {},
   "outputs": [
    {
     "name": "stdout",
     "output_type": "stream",
     "text": [
      "<class 'pandas.core.frame.DataFrame'>\n",
      "Int64Index: 999 entries, 0 to 998\n",
      "Data columns (total 14 columns):\n",
      " #   Column              Non-Null Count  Dtype         \n",
      "---  ------              --------------  -----         \n",
      " 0   TimeSpent           999 non-null    float64       \n",
      " 1   Age                 999 non-null    int64         \n",
      " 2   AreaIncome          999 non-null    float64       \n",
      " 3   DailyInternetUsage  999 non-null    float64       \n",
      " 4   AdHeadline          999 non-null    object        \n",
      " 5   City                999 non-null    object        \n",
      " 6   Male                999 non-null    int64         \n",
      " 7   Country             999 non-null    object        \n",
      " 8   Timestamp           999 non-null    datetime64[ns]\n",
      " 9   Clicked             999 non-null    int64         \n",
      " 10  Month               999 non-null    int64         \n",
      " 11  Day                 999 non-null    int64         \n",
      " 12  Hour                999 non-null    int64         \n",
      " 13  Weekday             999 non-null    int64         \n",
      "dtypes: datetime64[ns](1), float64(3), int64(7), object(3)\n",
      "memory usage: 117.1+ KB\n"
     ]
    }
   ],
   "source": [
    "data.info()"
   ]
  },
  {
   "cell_type": "code",
   "execution_count": 46,
   "metadata": {},
   "outputs": [
    {
     "data": {
      "text/html": [
       "<div>\n",
       "<style scoped>\n",
       "    .dataframe tbody tr th:only-of-type {\n",
       "        vertical-align: middle;\n",
       "    }\n",
       "\n",
       "    .dataframe tbody tr th {\n",
       "        vertical-align: top;\n",
       "    }\n",
       "\n",
       "    .dataframe thead th {\n",
       "        text-align: right;\n",
       "    }\n",
       "</style>\n",
       "<table border=\"1\" class=\"dataframe\">\n",
       "  <thead>\n",
       "    <tr style=\"text-align: right;\">\n",
       "      <th></th>\n",
       "      <th>TimeSpent</th>\n",
       "      <th>Age</th>\n",
       "      <th>AreaIncome</th>\n",
       "      <th>DailyInternetUsage</th>\n",
       "      <th>AdHeadline</th>\n",
       "      <th>City</th>\n",
       "      <th>Male</th>\n",
       "      <th>Country</th>\n",
       "      <th>Timestamp</th>\n",
       "      <th>Clicked</th>\n",
       "      <th>Month</th>\n",
       "      <th>Day</th>\n",
       "      <th>Hour</th>\n",
       "      <th>Weekday</th>\n",
       "    </tr>\n",
       "  </thead>\n",
       "  <tbody>\n",
       "    <tr>\n",
       "      <th>857</th>\n",
       "      <td>37.65</td>\n",
       "      <td>51</td>\n",
       "      <td>50457.01</td>\n",
       "      <td>161.29</td>\n",
       "      <td>Automated stable help-desk</td>\n",
       "      <td>Davidview</td>\n",
       "      <td>1</td>\n",
       "      <td>Bahrain</td>\n",
       "      <td>2016-03-09 06:22:00</td>\n",
       "      <td>1</td>\n",
       "      <td>3</td>\n",
       "      <td>9</td>\n",
       "      <td>6</td>\n",
       "      <td>2</td>\n",
       "    </tr>\n",
       "    <tr>\n",
       "      <th>289</th>\n",
       "      <td>50.52</td>\n",
       "      <td>31</td>\n",
       "      <td>72270.88</td>\n",
       "      <td>171.62</td>\n",
       "      <td>Function-based stable alliance</td>\n",
       "      <td>Lake Allenville</td>\n",
       "      <td>0</td>\n",
       "      <td>New Caledonia</td>\n",
       "      <td>2016-01-23 15:02:00</td>\n",
       "      <td>1</td>\n",
       "      <td>1</td>\n",
       "      <td>23</td>\n",
       "      <td>15</td>\n",
       "      <td>5</td>\n",
       "    </tr>\n",
       "    <tr>\n",
       "      <th>181</th>\n",
       "      <td>62.95</td>\n",
       "      <td>60</td>\n",
       "      <td>36752.24</td>\n",
       "      <td>157.04</td>\n",
       "      <td>Polarized tangible collaboration</td>\n",
       "      <td>Youngfort</td>\n",
       "      <td>0</td>\n",
       "      <td>Peru</td>\n",
       "      <td>2016-05-24 13:30:00</td>\n",
       "      <td>1</td>\n",
       "      <td>5</td>\n",
       "      <td>24</td>\n",
       "      <td>13</td>\n",
       "      <td>1</td>\n",
       "    </tr>\n",
       "    <tr>\n",
       "      <th>757</th>\n",
       "      <td>36.56</td>\n",
       "      <td>29</td>\n",
       "      <td>42838.29</td>\n",
       "      <td>195.89</td>\n",
       "      <td>Team-oriented bi-directional secured line</td>\n",
       "      <td>West Ryan</td>\n",
       "      <td>0</td>\n",
       "      <td>Uganda</td>\n",
       "      <td>2016-01-01 15:14:00</td>\n",
       "      <td>1</td>\n",
       "      <td>1</td>\n",
       "      <td>1</td>\n",
       "      <td>15</td>\n",
       "      <td>4</td>\n",
       "    </tr>\n",
       "    <tr>\n",
       "      <th>948</th>\n",
       "      <td>78.96</td>\n",
       "      <td>50</td>\n",
       "      <td>69868.48</td>\n",
       "      <td>193.15</td>\n",
       "      <td>Stand-alone well-modulated product</td>\n",
       "      <td>East Jason</td>\n",
       "      <td>0</td>\n",
       "      <td>Cayman Islands</td>\n",
       "      <td>2016-02-12 01:55:00</td>\n",
       "      <td>1</td>\n",
       "      <td>2</td>\n",
       "      <td>12</td>\n",
       "      <td>1</td>\n",
       "      <td>4</td>\n",
       "    </tr>\n",
       "    <tr>\n",
       "      <th>604</th>\n",
       "      <td>64.67</td>\n",
       "      <td>51</td>\n",
       "      <td>24316.61</td>\n",
       "      <td>138.35</td>\n",
       "      <td>Horizontal incremental website</td>\n",
       "      <td>Andersonfurt</td>\n",
       "      <td>1</td>\n",
       "      <td>Togo</td>\n",
       "      <td>2016-02-14 16:33:00</td>\n",
       "      <td>1</td>\n",
       "      <td>2</td>\n",
       "      <td>14</td>\n",
       "      <td>16</td>\n",
       "      <td>6</td>\n",
       "    </tr>\n",
       "    <tr>\n",
       "      <th>60</th>\n",
       "      <td>85.84</td>\n",
       "      <td>34</td>\n",
       "      <td>64654.66</td>\n",
       "      <td>192.93</td>\n",
       "      <td>Front-line heuristic data-warehouse</td>\n",
       "      <td>Lake Annashire</td>\n",
       "      <td>1</td>\n",
       "      <td>Saint Vincent and the Grenadines</td>\n",
       "      <td>2016-06-15 05:30:00</td>\n",
       "      <td>0</td>\n",
       "      <td>6</td>\n",
       "      <td>15</td>\n",
       "      <td>5</td>\n",
       "      <td>2</td>\n",
       "    </tr>\n",
       "    <tr>\n",
       "      <th>571</th>\n",
       "      <td>72.80</td>\n",
       "      <td>35</td>\n",
       "      <td>63551.67</td>\n",
       "      <td>249.54</td>\n",
       "      <td>Public-key solution-oriented focus group</td>\n",
       "      <td>Austinland</td>\n",
       "      <td>0</td>\n",
       "      <td>Puerto Rico</td>\n",
       "      <td>2016-01-03 23:21:00</td>\n",
       "      <td>0</td>\n",
       "      <td>1</td>\n",
       "      <td>3</td>\n",
       "      <td>23</td>\n",
       "      <td>6</td>\n",
       "    </tr>\n",
       "    <tr>\n",
       "      <th>36</th>\n",
       "      <td>65.82</td>\n",
       "      <td>39</td>\n",
       "      <td>76435.30</td>\n",
       "      <td>221.94</td>\n",
       "      <td>Reactive demand-driven capacity</td>\n",
       "      <td>Kellytown</td>\n",
       "      <td>0</td>\n",
       "      <td>Ukraine</td>\n",
       "      <td>2016-02-09 05:28:00</td>\n",
       "      <td>0</td>\n",
       "      <td>2</td>\n",
       "      <td>9</td>\n",
       "      <td>5</td>\n",
       "      <td>1</td>\n",
       "    </tr>\n",
       "    <tr>\n",
       "      <th>560</th>\n",
       "      <td>38.35</td>\n",
       "      <td>41</td>\n",
       "      <td>34886.01</td>\n",
       "      <td>144.69</td>\n",
       "      <td>Synergistic reciprocal attitude</td>\n",
       "      <td>Loriville</td>\n",
       "      <td>1</td>\n",
       "      <td>Vanuatu</td>\n",
       "      <td>2016-06-24 08:42:00</td>\n",
       "      <td>1</td>\n",
       "      <td>6</td>\n",
       "      <td>24</td>\n",
       "      <td>8</td>\n",
       "      <td>4</td>\n",
       "    </tr>\n",
       "  </tbody>\n",
       "</table>\n",
       "</div>"
      ],
      "text/plain": [
       "     TimeSpent  Age  AreaIncome  DailyInternetUsage  \\\n",
       "857      37.65   51    50457.01              161.29   \n",
       "289      50.52   31    72270.88              171.62   \n",
       "181      62.95   60    36752.24              157.04   \n",
       "757      36.56   29    42838.29              195.89   \n",
       "948      78.96   50    69868.48              193.15   \n",
       "604      64.67   51    24316.61              138.35   \n",
       "60       85.84   34    64654.66              192.93   \n",
       "571      72.80   35    63551.67              249.54   \n",
       "36       65.82   39    76435.30              221.94   \n",
       "560      38.35   41    34886.01              144.69   \n",
       "\n",
       "                                    AdHeadline             City  Male  \\\n",
       "857                 Automated stable help-desk        Davidview     1   \n",
       "289             Function-based stable alliance  Lake Allenville     0   \n",
       "181           Polarized tangible collaboration        Youngfort     0   \n",
       "757  Team-oriented bi-directional secured line        West Ryan     0   \n",
       "948         Stand-alone well-modulated product       East Jason     0   \n",
       "604             Horizontal incremental website     Andersonfurt     1   \n",
       "60         Front-line heuristic data-warehouse   Lake Annashire     1   \n",
       "571   Public-key solution-oriented focus group       Austinland     0   \n",
       "36             Reactive demand-driven capacity        Kellytown     0   \n",
       "560            Synergistic reciprocal attitude        Loriville     1   \n",
       "\n",
       "                              Country           Timestamp  Clicked  Month  \\\n",
       "857                           Bahrain 2016-03-09 06:22:00        1      3   \n",
       "289                     New Caledonia 2016-01-23 15:02:00        1      1   \n",
       "181                              Peru 2016-05-24 13:30:00        1      5   \n",
       "757                            Uganda 2016-01-01 15:14:00        1      1   \n",
       "948                    Cayman Islands 2016-02-12 01:55:00        1      2   \n",
       "604                              Togo 2016-02-14 16:33:00        1      2   \n",
       "60   Saint Vincent and the Grenadines 2016-06-15 05:30:00        0      6   \n",
       "571                       Puerto Rico 2016-01-03 23:21:00        0      1   \n",
       "36                            Ukraine 2016-02-09 05:28:00        0      2   \n",
       "560                           Vanuatu 2016-06-24 08:42:00        1      6   \n",
       "\n",
       "     Day  Hour  Weekday  \n",
       "857    9     6        2  \n",
       "289   23    15        5  \n",
       "181   24    13        1  \n",
       "757    1    15        4  \n",
       "948   12     1        4  \n",
       "604   14    16        6  \n",
       "60    15     5        2  \n",
       "571    3    23        6  \n",
       "36     9     5        1  \n",
       "560   24     8        4  "
      ]
     },
     "execution_count": 46,
     "metadata": {},
     "output_type": "execute_result"
    }
   ],
   "source": [
    "data.sample(10)"
   ]
  },
  {
   "cell_type": "code",
   "execution_count": 47,
   "metadata": {},
   "outputs": [],
   "source": [
    "import matplotlib.pyplot as plt"
   ]
  },
  {
   "cell_type": "code",
   "execution_count": 48,
   "metadata": {},
   "outputs": [
    {
     "data": {
      "image/png": "[encoded data removed]",
      "text/plain": [
       "<Figure size 576x432 with 1 Axes>"
      ]
     },
     "metadata": {
      "needs_background": "light"
     },
     "output_type": "display_data"
    }
   ],
   "source": [
    "data['Clicked'].value_counts().plot(kind = 'bar', figsize=(8,6))\n",
    "\n",
    "plt.xlabel('Clicked on Ad')\n",
    "plt.ylabel('Count')\n",
    "\n",
    "plt.show()"
   ]
  },
  {
   "cell_type": "code",
   "execution_count": 49,
   "metadata": {},
   "outputs": [
    {
     "data": {
      "text/plain": [
       "<matplotlib.axes._subplots.AxesSubplot at 0x214e3eeaeb0>"
      ]
     },
     "execution_count": 49,
     "metadata": {},
     "output_type": "execute_result"
    },
    {
     "data": {
      "image/png": "[encoded data removed]",
      "text/plain": [
       "<Figure size 720x432 with 1 Axes>"
      ]
     },
     "metadata": {
      "needs_background": "light"
     },
     "output_type": "display_data"
    }
   ],
   "source": [
    "monthly_data = data.groupby(['Month'])['Clicked'].sum()\n",
    "monthly_data.plot(figsize=(10,6))"
   ]
  },
  {
   "cell_type": "code",
   "execution_count": 50,
   "metadata": {},
   "outputs": [
    {
     "data": {
      "image/png": "[encoded data removed]",
      "text/plain": [
       "<Figure size 1080x360 with 2 Axes>"
      ]
     },
     "metadata": {
      "needs_background": "light"
     },
     "output_type": "display_data"
    }
   ],
   "source": [
    "f, ax = plt.subplots(1,2,figsize = (15,5))\n",
    "\n",
    "pd.crosstab(data['Clicked'], data['Hour']).T.plot(ax=ax[0])\n",
    "\n",
    "pd.pivot_table(data, index=['Weekday'],\n",
    "              values=['Clicked'],\n",
    "              aggfunc=np.sum).plot(kind='bar', ax=ax[1])\n",
    "plt.show()"
   ]
  },
  {
   "cell_type": "code",
   "execution_count": 51,
   "metadata": {},
   "outputs": [
    {
     "name": "stderr",
     "output_type": "stream",
     "text": [
      "<ipython-input-51-b1c1aeb91a7e>:1: FutureWarning: Indexing with multiple keys (implicitly converted to a tuple of keys) will be deprecated, use a list instead.\n",
      "  data.groupby('Clicked')['TimeSpent','Age','AreaIncome','DailyInternetUsage'].mean()\n"
     ]
    },
    {
     "data": {
      "text/html": [
       "<div>\n",
       "<style scoped>\n",
       "    .dataframe tbody tr th:only-of-type {\n",
       "        vertical-align: middle;\n",
       "    }\n",
       "\n",
       "    .dataframe tbody tr th {\n",
       "        vertical-align: top;\n",
       "    }\n",
       "\n",
       "    .dataframe thead th {\n",
       "        text-align: right;\n",
       "    }\n",
       "</style>\n",
       "<table border=\"1\" class=\"dataframe\">\n",
       "  <thead>\n",
       "    <tr style=\"text-align: right;\">\n",
       "      <th></th>\n",
       "      <th>TimeSpent</th>\n",
       "      <th>Age</th>\n",
       "      <th>AreaIncome</th>\n",
       "      <th>DailyInternetUsage</th>\n",
       "    </tr>\n",
       "    <tr>\n",
       "      <th>Clicked</th>\n",
       "      <th></th>\n",
       "      <th></th>\n",
       "      <th></th>\n",
       "      <th></th>\n",
       "    </tr>\n",
       "  </thead>\n",
       "  <tbody>\n",
       "    <tr>\n",
       "      <th>0</th>\n",
       "      <td>76.870461</td>\n",
       "      <td>31.677355</td>\n",
       "      <td>61384.687996</td>\n",
       "      <td>214.430421</td>\n",
       "    </tr>\n",
       "    <tr>\n",
       "      <th>1</th>\n",
       "      <td>53.145780</td>\n",
       "      <td>40.334000</td>\n",
       "      <td>48614.413740</td>\n",
       "      <td>145.486460</td>\n",
       "    </tr>\n",
       "  </tbody>\n",
       "</table>\n",
       "</div>"
      ],
      "text/plain": [
       "         TimeSpent        Age    AreaIncome  DailyInternetUsage\n",
       "Clicked                                                        \n",
       "0        76.870461  31.677355  61384.687996          214.430421\n",
       "1        53.145780  40.334000  48614.413740          145.486460"
      ]
     },
     "execution_count": 51,
     "metadata": {},
     "output_type": "execute_result"
    }
   ],
   "source": [
    "data.groupby('Clicked')['TimeSpent','Age','AreaIncome','DailyInternetUsage'].mean()"
   ]
  },
  {
   "cell_type": "markdown",
   "metadata": {},
   "source": [
    "### This tells us: a. People tend to stay longer on site w/o clicking ads, b. Older people clicked on ads more than younger, c. lower income clicked"
   ]
  },
  {
   "cell_type": "code",
   "execution_count": 52,
   "metadata": {},
   "outputs": [],
   "source": [
    "import seaborn as sns"
   ]
  },
  {
   "cell_type": "code",
   "execution_count": 53,
   "metadata": {},
   "outputs": [
    {
     "data": {
      "text/plain": [
       "<seaborn.axisgrid.JointGrid at 0x214e3fdbb50>"
      ]
     },
     "execution_count": 53,
     "metadata": {},
     "output_type": "execute_result"
    },
    {
     "data": {
      "image/png": "[encoded data removed]",
      "text/plain": [
       "<Figure size 432x432 with 3 Axes>"
      ]
     },
     "metadata": {
      "needs_background": "light"
     },
     "output_type": "display_data"
    }
   ],
   "source": [
    "#A Jointplot is a scatterplot representation of the data along w/ univarate distributions\n",
    "sns.jointplot(x='Age', y='TimeSpent',data=data)"
   ]
  },
  {
   "cell_type": "markdown",
   "metadata": {},
   "source": [
    "### This shows no real relationship with Age and TimeSpent"
   ]
  },
  {
   "cell_type": "code",
   "execution_count": 59,
   "metadata": {},
   "outputs": [
    {
     "data": {
      "text/plain": [
       "<matplotlib.axes._subplots.AxesSubplot at 0x214e455e580>"
      ]
     },
     "execution_count": 59,
     "metadata": {},
     "output_type": "execute_result"
    },
    {
     "data": {
      "image/png": "[encoded data removed]",
      "text/plain": [
       "<Figure size 864x576 with 2 Axes>"
      ]
     },
     "metadata": {
      "needs_background": "light"
     },
     "output_type": "display_data"
    }
   ],
   "source": [
    "fig = plt.figure(figsize=(12,8))\n",
    "\n",
    "sns.heatmap(data.corr(),  #this will run a correlation for ALL data fields\n",
    "           cmap = 'summer', #can customize with other seasonal colors: spring, winter, autumn\n",
    "           annot = True, vmin = -1, vmax = 1)"
   ]
  },
  {
   "cell_type": "code",
   "execution_count": 63,
   "metadata": {},
   "outputs": [],
   "source": [
    "#This connects/establishes Jupyter Lab (or Notebooks) to your plotly account\n",
    "import chart_studio\n",
    "import chart_studio.plotly as py\n",
    "import plotly.graph_objects as go\n",
    "\n",
    "chart_studio.tools.set_credentials_file(username='geneleebpt', api_key='QCkepE8DDTQpfAw2uxlL')"
   ]
  },
  {
   "cell_type": "code",
   "execution_count": 64,
   "metadata": {},
   "outputs": [
    {
     "data": {
      "text/html": [
       "\n",
       "        <iframe\n",
       "            width=\"100%\"\n",
       "            height=\"525px\"\n",
       "            src=\"https://plotly.com/~geneleebpt/1.embed\"\n",
       "            frameborder=\"0\"\n",
       "            allowfullscreen\n",
       "        ></iframe>\n",
       "        "
      ],
      "text/plain": [
       "<IPython.lib.display.IFrame at 0x214e69178e0>"
      ]
     },
     "execution_count": 64,
     "metadata": {},
     "output_type": "execute_result"
    }
   ],
   "source": [
    "trace0 = go.Scatter(x=data['DailyInternetUsage'],\n",
    "                   y = data['AreaIncome'],\n",
    "                   mode = 'markers',\n",
    "                   marker = dict(size = data['Age']/2,\n",
    "                                color = data['Clicked'],\n",
    "                                 colorscale = 'Rainbow',\n",
    "                                 showscale = True),\n",
    "                    text = data['Age'])\n",
    "data0 = [trace0]\n",
    "layout = go.Layout(xaxis = dict(title='Daily Internet Usage'),\n",
    "                  yaxis = dict(title = 'Area Income'))\n",
    "\n",
    "fig = go.Figure(data=data0, layout=layout)\n",
    "py.iplot(fig,filename = 'scatter_plot',auto_open=True)"
   ]
  },
  {
   "cell_type": "markdown",
   "metadata": {},
   "source": [
    "### When executing script above, this will bring up Plotly cloud on the web w/ the same visualization."
   ]
  },
  {
   "cell_type": "code",
   "execution_count": null,
   "metadata": {},
   "outputs": [],
   "source": []
  }
 ],
 "metadata": {
  "kernelspec": {
   "display_name": "Python 3.8.2 64-bit",
   "language": "python",
   "name": "python38264bit3b7b80a442be44deae880250beb3f73f"
  },
  "language_info": {
   "codemirror_mode": {
    "name": "ipython",
    "version": 3
   },
   "file_extension": ".py",
   "mimetype": "text/x-python",
   "name": "python",
   "nbconvert_exporter": "python",
   "pygments_lexer": "ipython3",
   "version": "3.8.2"
  }
 },
 "nbformat": 4,
 "nbformat_minor": 4
}
