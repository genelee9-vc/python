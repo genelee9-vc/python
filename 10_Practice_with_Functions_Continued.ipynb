{
 "cells": [
  {
   "cell_type": "code",
   "execution_count": 1,
   "metadata": {},
   "outputs": [],
   "source": [
    "pop_books = [\"Geronimo Stilton\",\"Thea Stilton\",\"Timmy Failure\",\"Asterix\",\"Tintin\"]"
   ]
  },
  {
   "cell_type": "code",
   "execution_count": 4,
   "metadata": {},
   "outputs": [],
   "source": [
    "def modify_list(pop_books):\n",
    "    pop_books.append(\"Dr. Seuss\")"
   ]
  },
  {
   "cell_type": "code",
   "execution_count": 5,
   "metadata": {},
   "outputs": [
    {
     "data": {
      "text/plain": [
       "['Geronimo Stilton', 'Thea Stilton', 'Timmy Failure', 'Asterix', 'Tintin']"
      ]
     },
     "execution_count": 5,
     "metadata": {},
     "output_type": "execute_result"
    }
   ],
   "source": [
    "pop_books"
   ]
  },
  {
   "cell_type": "code",
   "execution_count": 6,
   "metadata": {},
   "outputs": [],
   "source": [
    "modify_list(pop_books)"
   ]
  },
  {
   "cell_type": "code",
   "execution_count": 7,
   "metadata": {},
   "outputs": [
    {
     "data": {
      "text/plain": [
       "['Geronimo Stilton',\n",
       " 'Thea Stilton',\n",
       " 'Timmy Failure',\n",
       " 'Asterix',\n",
       " 'Tintin',\n",
       " 'Dr. Seuss']"
      ]
     },
     "execution_count": 7,
     "metadata": {},
     "output_type": "execute_result"
    }
   ],
   "source": [
    "pop_books"
   ]
  },
  {
   "cell_type": "code",
   "execution_count": 8,
   "metadata": {},
   "outputs": [],
   "source": [
    "def modify_list(story_books):\n",
    "    story_books[1]=\"Junie B Jones\"\n",
    "    story_books.pop() #this pops or removes the LAST item (book, in this case) in the list"
   ]
  },
  {
   "cell_type": "code",
   "execution_count": 9,
   "metadata": {},
   "outputs": [
    {
     "data": {
      "text/plain": [
       "['Geronimo Stilton', 'Junie B Jones', 'Timmy Failure', 'Asterix', 'Tintin']"
      ]
     },
     "execution_count": 9,
     "metadata": {},
     "output_type": "execute_result"
    }
   ],
   "source": [
    "#As you can see, index 1 in the list is replaced, and Dr. Seuss is removed\n",
    "modify_list(pop_books)\n",
    "pop_books"
   ]
  },
  {
   "cell_type": "code",
   "execution_count": 14,
   "metadata": {},
   "outputs": [],
   "source": [
    "#Works for dictionaries\n",
    "pop_books_dict = {'Geronimo Stilton':4,'Thea Stilton':5,'Timmy Failure':2,'Asterix':12,'Tintin':8}"
   ]
  },
  {
   "cell_type": "code",
   "execution_count": 15,
   "metadata": {},
   "outputs": [],
   "source": [
    "def modify_dict(story_books_dict):\n",
    "    del story_books_dict[\"Tintin\"]\n",
    "    story_books_dict['Famous Five']=3"
   ]
  },
  {
   "cell_type": "code",
   "execution_count": 16,
   "metadata": {},
   "outputs": [
    {
     "data": {
      "text/plain": [
       "{'Geronimo Stilton': 4,\n",
       " 'Thea Stilton': 5,\n",
       " 'Timmy Failure': 2,\n",
       " 'Asterix': 12,\n",
       " 'Famous Five': 3}"
      ]
     },
     "execution_count": 16,
     "metadata": {},
     "output_type": "execute_result"
    }
   ],
   "source": [
    "modify_dict(pop_books_dict)\n",
    "pop_books_dict"
   ]
  },
  {
   "cell_type": "code",
   "execution_count": 33,
   "metadata": {},
   "outputs": [],
   "source": [
    "#Passing in \"keyword arguments\" into functions\n",
    "def car_parts(name, brand, hp, engine, zero_to_sixty, top_speed, price):\n",
    "    \n",
    "    other_dets = hp, engine, top_speed\n",
    "    \n",
    "    print(\"Name of the car:\",name)\n",
    "    print(\"Brand:\",brand,\"\\n0 to 60:\",zero_to_sixty)\n",
    "    print(\"Price:\",price)\n",
    "    print(\"Remaining details (hp, engine, top_speed):\",other_dets)"
   ]
  },
  {
   "cell_type": "code",
   "execution_count": 34,
   "metadata": {},
   "outputs": [
    {
     "name": "stdout",
     "output_type": "stream",
     "text": [
      "Name of the car: Aventador\n",
      "Brand: Lamborghini \n",
      "0 to 60: 2.9\n",
      "Price: 261000\n",
      "Remaining details (hp, engine, top_speed): (544, 7.0, 220)\n"
     ]
    }
   ],
   "source": [
    "car_parts(\"Aventador\", \"Lamborghini\", 544, 7.0, 2.9, 220, 261000)"
   ]
  },
  {
   "cell_type": "code",
   "execution_count": 23,
   "metadata": {},
   "outputs": [
    {
     "ename": "TypeError",
     "evalue": "car_parts() missing 2 required positional arguments: 'top_speed' and 'price'",
     "output_type": "error",
     "traceback": [
      "\u001b[1;31m---------------------------------------------------------------------------\u001b[0m",
      "\u001b[1;31mTypeError\u001b[0m                                 Traceback (most recent call last)",
      "\u001b[1;32m<ipython-input-23-39c13add1d01>\u001b[0m in \u001b[0;36m<module>\u001b[1;34m\u001b[0m\n\u001b[0;32m      1\u001b[0m \u001b[1;31m#Potentially, these data points/input arguments can be fat-fingered, or manually entered incorrectly\u001b[0m\u001b[1;33m\u001b[0m\u001b[1;33m\u001b[0m\u001b[1;33m\u001b[0m\u001b[0m\n\u001b[1;32m----> 2\u001b[1;33m \u001b[0mcar_parts\u001b[0m\u001b[1;33m(\u001b[0m\u001b[1;34m\"Aventador\"\u001b[0m\u001b[1;33m,\u001b[0m \u001b[1;34m\"Lamborghini\"\u001b[0m\u001b[1;33m,\u001b[0m \u001b[1;36m544\u001b[0m\u001b[1;33m,\u001b[0m \u001b[1;36m7.0\u001b[0m\u001b[1;33m,\u001b[0m \u001b[1;36m2.9\u001b[0m\u001b[1;33m)\u001b[0m\u001b[1;33m\u001b[0m\u001b[1;33m\u001b[0m\u001b[0m\n\u001b[0m",
      "\u001b[1;31mTypeError\u001b[0m: car_parts() missing 2 required positional arguments: 'top_speed' and 'price'"
     ]
    }
   ],
   "source": [
    "#Potentially, these data points/input arguments can be fat-fingered, or manually entered incorrectly\n",
    "car_parts(\"Aventador\", \"Lamborghini\", 544, 7.0, 2.9)"
   ]
  },
  {
   "cell_type": "code",
   "execution_count": 24,
   "metadata": {},
   "outputs": [
    {
     "name": "stdout",
     "output_type": "stream",
     "text": [
      "Name of the car: Aventador\n",
      "Brand: Lamborghini \n",
      "0 to 60: 261000\n",
      "Price: 2.9\n",
      "Remaining details (hp, engine, top_speed, price): (544, 220, 7.0, 2.9)\n"
     ]
    }
   ],
   "source": [
    "car_parts(\"Aventador\", \"Lamborghini\", 544, 220, 261000,7.0, 2.9)"
   ]
  },
  {
   "cell_type": "code",
   "execution_count": null,
   "metadata": {},
   "outputs": [],
   "source": [
    "7.0, 2.9,"
   ]
  },
  {
   "cell_type": "code",
   "execution_count": 28,
   "metadata": {},
   "outputs": [
    {
     "name": "stdout",
     "output_type": "stream",
     "text": [
      "Name of the car: Aventador\n",
      "Brand: Lamborghini \n",
      "0 to 60: 2.9\n",
      "Price: 261000\n",
      "Remaining details (hp, engine, top_speed): (544, 7.0, 220)\n"
     ]
    }
   ],
   "source": [
    "#This is why you want to make keyword arguments clear\n",
    "car_parts(\"Aventador\", \n",
    "          \"Lamborghini\",\n",
    "          hp=544,\n",
    "          engine=7.0,\n",
    "          zero_to_sixty=2.9,\n",
    "          top_speed=220,\n",
    "          price=261000)"
   ]
  },
  {
   "cell_type": "code",
   "execution_count": 35,
   "metadata": {},
   "outputs": [
    {
     "name": "stdout",
     "output_type": "stream",
     "text": [
      "Name of the car: Aventador\n",
      "Brand: Lamborghini \n",
      "0 to 60: 2.9\n",
      "Price: 261000\n",
      "Remaining details (hp, engine, top_speed): (544, 7.0, 220)\n"
     ]
    }
   ],
   "source": [
    "#Specifying keyword arguments lets you mix up the ordering\n",
    "car_parts(\"Aventador\", \n",
    "          \"Lamborghini\",\n",
    "          price=261000,\n",
    "          hp=544,\n",
    "          zero_to_sixty=2.9,\n",
    "          top_speed=220,\n",
    "          engine=7.0)         "
   ]
  },
  {
   "cell_type": "code",
   "execution_count": 30,
   "metadata": {},
   "outputs": [],
   "source": [
    "#Passing in \"keyword arguments\" w/ default values into functions\n",
    "def car_parts2(name, brand, hp, engine, zero_to_sixty, top_speed, price=35000):\n",
    "    \n",
    "    other_dets = hp, engine, top_speed\n",
    "    \n",
    "    print(\"Name of the car:\",name)\n",
    "    print(\"Brand:\",brand,\"\\n0 to 60:\",zero_to_sixty)\n",
    "    print(\"Price:\",price)\n",
    "    print(\"Remaining details (hp, engine, top_speed):\",other_dets)"
   ]
  },
  {
   "cell_type": "code",
   "execution_count": 36,
   "metadata": {},
   "outputs": [
    {
     "name": "stdout",
     "output_type": "stream",
     "text": [
      "Name of the car: Mustang\n",
      "Brand: Ford \n",
      "0 to 60: 7.0\n",
      "Price: 35000\n",
      "Remaining details (hp, engine, top_speed): (295, 5.0, 150)\n"
     ]
    }
   ],
   "source": [
    "car_parts2(\"Mustang\", \n",
    "          \"Ford\",\n",
    "          hp=295,\n",
    "          zero_to_sixty=7.0,\n",
    "          top_speed=150,\n",
    "          engine=5.0)    "
   ]
  },
  {
   "cell_type": "code",
   "execution_count": 37,
   "metadata": {},
   "outputs": [
    {
     "ename": "TypeError",
     "evalue": "car_parts2() missing 1 required positional argument: 'zero_to_sixty'",
     "output_type": "error",
     "traceback": [
      "\u001b[1;31m---------------------------------------------------------------------------\u001b[0m",
      "\u001b[1;31mTypeError\u001b[0m                                 Traceback (most recent call last)",
      "\u001b[1;32m<ipython-input-37-c798429ae35e>\u001b[0m in \u001b[0;36m<module>\u001b[1;34m\u001b[0m\n\u001b[0;32m      3\u001b[0m           \u001b[0mhp\u001b[0m\u001b[1;33m=\u001b[0m\u001b[1;36m295\u001b[0m\u001b[1;33m,\u001b[0m\u001b[1;33m\u001b[0m\u001b[1;33m\u001b[0m\u001b[0m\n\u001b[0;32m      4\u001b[0m           \u001b[0mtop_speed\u001b[0m\u001b[1;33m=\u001b[0m\u001b[1;36m150\u001b[0m\u001b[1;33m,\u001b[0m\u001b[1;33m\u001b[0m\u001b[1;33m\u001b[0m\u001b[0m\n\u001b[1;32m----> 5\u001b[1;33m           engine=5.0) \n\u001b[0m",
      "\u001b[1;31mTypeError\u001b[0m: car_parts2() missing 1 required positional argument: 'zero_to_sixty'"
     ]
    }
   ],
   "source": [
    "#Can only leave out assigning values to input arg if input arg has default value\n",
    "car_parts2(\"Mustang\", \n",
    "          \"Ford\",\n",
    "          hp=295,\n",
    "          top_speed=150,\n",
    "          engine=5.0) "
   ]
  },
  {
   "cell_type": "code",
   "execution_count": 38,
   "metadata": {},
   "outputs": [
    {
     "name": "stdout",
     "output_type": "stream",
     "text": [
      "Name of the car: Mustang\n",
      "Brand: Ford \n",
      "0 to 60: 7.0\n",
      "Price: 27500\n",
      "Remaining details (hp, engine, top_speed): (295, 5.0, 150)\n"
     ]
    }
   ],
   "source": [
    "#Can override initial default value through input arguments\n",
    "car_parts2(\"Mustang\", \n",
    "          \"Ford\",\n",
    "          hp=295,\n",
    "          zero_to_sixty=7.0,\n",
    "          top_speed=150,\n",
    "          engine=5.0,\n",
    "          price=27500) "
   ]
  },
  {
   "cell_type": "code",
   "execution_count": 39,
   "metadata": {},
   "outputs": [],
   "source": [
    "#Passing in \"keyword arguments\" w/ default values for every input argument\n",
    "def car_parts3(name= \"Mustang\", brand=\"Ford\", hp=295, engine=5.0,\n",
    "               zero_to_sixty=8.0, top_speed=200, price=29725):\n",
    "    \n",
    "    other_dets = hp, engine, top_speed\n",
    "    \n",
    "    print(\"Name of the car:\",name)\n",
    "    print(\"Brand:\",brand,\"\\n0 to 60:\",zero_to_sixty)\n",
    "    print(\"Price:\",price)\n",
    "    print(\"Remaining details (hp, engine, top_speed):\",other_dets)"
   ]
  },
  {
   "cell_type": "code",
   "execution_count": 41,
   "metadata": {},
   "outputs": [
    {
     "name": "stdout",
     "output_type": "stream",
     "text": [
      "Name of the car: Mustang\n",
      "Brand: Ford \n",
      "0 to 60: 8.0\n",
      "Price: 29725\n",
      "Remaining details (hp, engine, top_speed): (295, 5.0, 200)\n"
     ]
    }
   ],
   "source": [
    "car_parts3()"
   ]
  },
  {
   "cell_type": "code",
   "execution_count": 42,
   "metadata": {},
   "outputs": [],
   "source": [
    "#Functions as First Class citizens in Py - Functions are Objects (whatever you can do w/ a string or dictionary)\n",
    "def my_car(car):\n",
    "    print(\"My car is a\",car)"
   ]
  },
  {
   "cell_type": "code",
   "execution_count": 44,
   "metadata": {},
   "outputs": [
    {
     "name": "stdout",
     "output_type": "stream",
     "text": [
      "My car is a Mini Countryman S All4\n"
     ]
    }
   ],
   "source": [
    "my_car(\"Mini Countryman S All4\")"
   ]
  },
  {
   "cell_type": "code",
   "execution_count": 45,
   "metadata": {},
   "outputs": [
    {
     "data": {
      "text/plain": [
       "<function __main__.my_car(car)>"
      ]
     },
     "execution_count": 45,
     "metadata": {},
     "output_type": "execute_result"
    }
   ],
   "source": [
    "my_car"
   ]
  },
  {
   "cell_type": "code",
   "execution_count": 47,
   "metadata": {},
   "outputs": [],
   "source": [
    "#Can assign functions to variables since they are 1st class functions (objects)\n",
    "car_fn = my_car"
   ]
  },
  {
   "cell_type": "code",
   "execution_count": 48,
   "metadata": {},
   "outputs": [
    {
     "name": "stdout",
     "output_type": "stream",
     "text": [
      "My car is a Porsche 911\n"
     ]
    }
   ],
   "source": [
    "car_fn(\"Porsche 911\")"
   ]
  },
  {
   "cell_type": "code",
   "execution_count": 49,
   "metadata": {},
   "outputs": [],
   "source": [
    "maximum = max"
   ]
  },
  {
   "cell_type": "code",
   "execution_count": 50,
   "metadata": {},
   "outputs": [],
   "source": [
    "num_list = [56,54,8,9678,987,7]"
   ]
  },
  {
   "cell_type": "code",
   "execution_count": 51,
   "metadata": {},
   "outputs": [
    {
     "data": {
      "text/plain": [
       "9678"
      ]
     },
     "execution_count": 51,
     "metadata": {},
     "output_type": "execute_result"
    }
   ],
   "source": [
    "maximum(num_list)"
   ]
  },
  {
   "cell_type": "code",
   "execution_count": 53,
   "metadata": {},
   "outputs": [],
   "source": [
    "def calc_gst(price, type_of_item):\n",
    "    if type_of_item ==\"Product\":   #if item is a Product, the tax is 5%, or 1.05)\n",
    "        return price*1.05\n",
    "    \n",
    "    elif type_of_item == \"Service\":\n",
    "        return price*1.18\n",
    "    \n",
    "    return price*1.35   #if not product or service, tax is 35%"
   ]
  },
  {
   "cell_type": "code",
   "execution_count": 57,
   "metadata": {},
   "outputs": [
    {
     "name": "stdout",
     "output_type": "stream",
     "text": [
      "5.25\n",
      "2950.0\n",
      "1350.0\n"
     ]
    }
   ],
   "source": [
    "print(calc_gst(5.00, \"Product\"))\n",
    "print(calc_gst(2500.00,\"Service\"))\n",
    "print(calc_gst(1000.00,\"Trade\"))"
   ]
  },
  {
   "cell_type": "code",
   "execution_count": 58,
   "metadata": {},
   "outputs": [],
   "source": [
    "def calc_vat(price,type_of_item):\n",
    "    return price*1.2"
   ]
  },
  {
   "cell_type": "code",
   "execution_count": 59,
   "metadata": {},
   "outputs": [
    {
     "data": {
      "text/plain": [
       "1200.0"
      ]
     },
     "execution_count": 59,
     "metadata": {},
     "output_type": "execute_result"
    }
   ],
   "source": [
    "calc_vat(1000.00,\"Product\")"
   ]
  },
  {
   "cell_type": "code",
   "execution_count": 60,
   "metadata": {},
   "outputs": [],
   "source": [
    "#Funcs are 1st class, so can assign as variable\n",
    "type_of_tax = calc_gst"
   ]
  },
  {
   "cell_type": "code",
   "execution_count": 61,
   "metadata": {},
   "outputs": [
    {
     "name": "stdout",
     "output_type": "stream",
     "text": [
      "5.25\n",
      "2950.0\n",
      "1350.0\n"
     ]
    }
   ],
   "source": [
    "print(type_of_tax(5.00, \"Product\"))\n",
    "print(type_of_tax(2500.00,\"Service\"))\n",
    "print(type_of_tax(1000.00,\"Trade\"))"
   ]
  },
  {
   "cell_type": "code",
   "execution_count": 62,
   "metadata": {},
   "outputs": [],
   "source": [
    "type_of_tax = calc_vat"
   ]
  },
  {
   "cell_type": "code",
   "execution_count": 63,
   "metadata": {},
   "outputs": [
    {
     "data": {
      "text/plain": [
       "1200.0"
      ]
     },
     "execution_count": 63,
     "metadata": {},
     "output_type": "execute_result"
    }
   ],
   "source": [
    "type_of_tax(1000.00,\"Service\")"
   ]
  },
  {
   "cell_type": "code",
   "execution_count": 64,
   "metadata": {},
   "outputs": [],
   "source": [
    "def find_tax_calc(type_of_tax):\n",
    "    \n",
    "    if type_of_tax ==\"GST\":\n",
    "        return calc_gst\n",
    "    \n",
    "    if type_of_tax==\"VAT\":\n",
    "        return calc_vat"
   ]
  },
  {
   "cell_type": "code",
   "execution_count": 65,
   "metadata": {},
   "outputs": [
    {
     "data": {
      "text/plain": [
       "<function __main__.calc_gst(price, type_of_item)>"
      ]
     },
     "execution_count": 65,
     "metadata": {},
     "output_type": "execute_result"
    }
   ],
   "source": [
    "gst_fn = find_tax_calc(\"GST\")\n",
    "gst_fn"
   ]
  },
  {
   "cell_type": "code",
   "execution_count": 66,
   "metadata": {},
   "outputs": [
    {
     "data": {
      "text/plain": [
       "<function __main__.calc_vat(price, type_of_item)>"
      ]
     },
     "execution_count": 66,
     "metadata": {},
     "output_type": "execute_result"
    }
   ],
   "source": [
    "vat_fn = find_tax_calc(\"VAT\")\n",
    "vat_fn"
   ]
  },
  {
   "cell_type": "code",
   "execution_count": 67,
   "metadata": {},
   "outputs": [
    {
     "data": {
      "text/plain": [
       "1050.0"
      ]
     },
     "execution_count": 67,
     "metadata": {},
     "output_type": "execute_result"
    }
   ],
   "source": [
    "gst_fn(1000.00,\"Product\")"
   ]
  },
  {
   "cell_type": "code",
   "execution_count": 68,
   "metadata": {},
   "outputs": [
    {
     "data": {
      "text/plain": [
       "1200.0"
      ]
     },
     "execution_count": 68,
     "metadata": {},
     "output_type": "execute_result"
    }
   ],
   "source": [
    "vat_fn(1000.00,\"Product\")"
   ]
  },
  {
   "cell_type": "code",
   "execution_count": 69,
   "metadata": {},
   "outputs": [],
   "source": [
    "#Funcs can be passed into other funcs as input arguments since they are 1st class citizens in Py\n",
    "def get_price_plus_taxes(price, type_of_item, tax_fn):\n",
    "    return tax_fn(price,type_of_item)"
   ]
  },
  {
   "cell_type": "code",
   "execution_count": 70,
   "metadata": {},
   "outputs": [
    {
     "data": {
      "text/plain": [
       "2100.0"
      ]
     },
     "execution_count": 70,
     "metadata": {},
     "output_type": "execute_result"
    }
   ],
   "source": [
    "get_price_plus_taxes(2000.00,\"Product\",tax_fn=calc_gst)"
   ]
  },
  {
   "cell_type": "code",
   "execution_count": 71,
   "metadata": {},
   "outputs": [
    {
     "data": {
      "text/plain": [
       "2400.0"
      ]
     },
     "execution_count": 71,
     "metadata": {},
     "output_type": "execute_result"
    }
   ],
   "source": [
    "get_price_plus_taxes(2000.00,\"Product\",tax_fn=calc_vat)"
   ]
  },
  {
   "cell_type": "code",
   "execution_count": null,
   "metadata": {},
   "outputs": [],
   "source": []
  },
  {
   "cell_type": "code",
   "execution_count": null,
   "metadata": {},
   "outputs": [],
   "source": []
  },
  {
   "cell_type": "code",
   "execution_count": null,
   "metadata": {},
   "outputs": [],
   "source": []
  },
  {
   "cell_type": "code",
   "execution_count": null,
   "metadata": {},
   "outputs": [],
   "source": []
  },
  {
   "cell_type": "code",
   "execution_count": null,
   "metadata": {},
   "outputs": [],
   "source": []
  },
  {
   "cell_type": "code",
   "execution_count": null,
   "metadata": {},
   "outputs": [],
   "source": []
  },
  {
   "cell_type": "code",
   "execution_count": null,
   "metadata": {},
   "outputs": [],
   "source": []
  },
  {
   "cell_type": "code",
   "execution_count": null,
   "metadata": {},
   "outputs": [],
   "source": []
  }
 ],
 "metadata": {
  "kernelspec": {
   "display_name": "Python 3",
   "language": "python",
   "name": "python3"
  },
  "language_info": {
   "codemirror_mode": {
    "name": "ipython",
    "version": 3
   },
   "file_extension": ".py",
   "mimetype": "text/x-python",
   "name": "python",
   "nbconvert_exporter": "python",
   "pygments_lexer": "ipython3",
   "version": "3.7.6"
  }
 },
 "nbformat": 4,
 "nbformat_minor": 4
}
